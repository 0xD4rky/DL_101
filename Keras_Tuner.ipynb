{
  "nbformat": 4,
  "nbformat_minor": 0,
  "metadata": {
    "colab": {
      "provenance": [],
      "authorship_tag": "ABX9TyMjUXRNmH0k6qYcvpCS3l6s",
      "include_colab_link": true
    },
    "kernelspec": {
      "name": "python3",
      "display_name": "Python 3"
    },
    "language_info": {
      "name": "python"
    }
  },
  "cells": [
    {
      "cell_type": "markdown",
      "metadata": {
        "id": "view-in-github",
        "colab_type": "text"
      },
      "source": [
        "<a href=\"https://colab.research.google.com/github/0xD4rky/DL_101/blob/main/Keras_Tuner.ipynb\" target=\"_parent\"><img src=\"https://colab.research.google.com/assets/colab-badge.svg\" alt=\"Open In Colab\"/></a>"
      ]
    },
    {
      "cell_type": "code",
      "execution_count": 49,
      "metadata": {
        "id": "raqioBkwfsd9"
      },
      "outputs": [],
      "source": [
        "import numpy as np\n",
        "import pandas as pd"
      ]
    },
    {
      "cell_type": "code",
      "source": [
        "df=pd.read_csv('/content/diabetes.csv')"
      ],
      "metadata": {
        "id": "Wu3Zh4m8glM3"
      },
      "execution_count": 50,
      "outputs": []
    },
    {
      "cell_type": "code",
      "source": [
        "df.head()"
      ],
      "metadata": {
        "colab": {
          "base_uri": "https://localhost:8080/",
          "height": 206
        },
        "id": "so2ky8W-goOW",
        "outputId": "e7f8afef-c7c9-4f44-fcf7-7898c5cc1cdc"
      },
      "execution_count": 51,
      "outputs": [
        {
          "output_type": "execute_result",
          "data": {
            "text/plain": [
              "   Pregnancies  Glucose  BloodPressure  SkinThickness  Insulin   BMI  \\\n",
              "0            6      148             72             35        0  33.6   \n",
              "1            1       85             66             29        0  26.6   \n",
              "2            8      183             64              0        0  23.3   \n",
              "3            1       89             66             23       94  28.1   \n",
              "4            0      137             40             35      168  43.1   \n",
              "\n",
              "   DiabetesPedigreeFunction  Age  Outcome  \n",
              "0                     0.627   50        1  \n",
              "1                     0.351   31        0  \n",
              "2                     0.672   32        1  \n",
              "3                     0.167   21        0  \n",
              "4                     2.288   33        1  "
            ],
            "text/html": [
              "\n",
              "  <div id=\"df-c023ab58-31e2-4c02-8d7c-e57a49920899\" class=\"colab-df-container\">\n",
              "    <div>\n",
              "<style scoped>\n",
              "    .dataframe tbody tr th:only-of-type {\n",
              "        vertical-align: middle;\n",
              "    }\n",
              "\n",
              "    .dataframe tbody tr th {\n",
              "        vertical-align: top;\n",
              "    }\n",
              "\n",
              "    .dataframe thead th {\n",
              "        text-align: right;\n",
              "    }\n",
              "</style>\n",
              "<table border=\"1\" class=\"dataframe\">\n",
              "  <thead>\n",
              "    <tr style=\"text-align: right;\">\n",
              "      <th></th>\n",
              "      <th>Pregnancies</th>\n",
              "      <th>Glucose</th>\n",
              "      <th>BloodPressure</th>\n",
              "      <th>SkinThickness</th>\n",
              "      <th>Insulin</th>\n",
              "      <th>BMI</th>\n",
              "      <th>DiabetesPedigreeFunction</th>\n",
              "      <th>Age</th>\n",
              "      <th>Outcome</th>\n",
              "    </tr>\n",
              "  </thead>\n",
              "  <tbody>\n",
              "    <tr>\n",
              "      <th>0</th>\n",
              "      <td>6</td>\n",
              "      <td>148</td>\n",
              "      <td>72</td>\n",
              "      <td>35</td>\n",
              "      <td>0</td>\n",
              "      <td>33.6</td>\n",
              "      <td>0.627</td>\n",
              "      <td>50</td>\n",
              "      <td>1</td>\n",
              "    </tr>\n",
              "    <tr>\n",
              "      <th>1</th>\n",
              "      <td>1</td>\n",
              "      <td>85</td>\n",
              "      <td>66</td>\n",
              "      <td>29</td>\n",
              "      <td>0</td>\n",
              "      <td>26.6</td>\n",
              "      <td>0.351</td>\n",
              "      <td>31</td>\n",
              "      <td>0</td>\n",
              "    </tr>\n",
              "    <tr>\n",
              "      <th>2</th>\n",
              "      <td>8</td>\n",
              "      <td>183</td>\n",
              "      <td>64</td>\n",
              "      <td>0</td>\n",
              "      <td>0</td>\n",
              "      <td>23.3</td>\n",
              "      <td>0.672</td>\n",
              "      <td>32</td>\n",
              "      <td>1</td>\n",
              "    </tr>\n",
              "    <tr>\n",
              "      <th>3</th>\n",
              "      <td>1</td>\n",
              "      <td>89</td>\n",
              "      <td>66</td>\n",
              "      <td>23</td>\n",
              "      <td>94</td>\n",
              "      <td>28.1</td>\n",
              "      <td>0.167</td>\n",
              "      <td>21</td>\n",
              "      <td>0</td>\n",
              "    </tr>\n",
              "    <tr>\n",
              "      <th>4</th>\n",
              "      <td>0</td>\n",
              "      <td>137</td>\n",
              "      <td>40</td>\n",
              "      <td>35</td>\n",
              "      <td>168</td>\n",
              "      <td>43.1</td>\n",
              "      <td>2.288</td>\n",
              "      <td>33</td>\n",
              "      <td>1</td>\n",
              "    </tr>\n",
              "  </tbody>\n",
              "</table>\n",
              "</div>\n",
              "    <div class=\"colab-df-buttons\">\n",
              "\n",
              "  <div class=\"colab-df-container\">\n",
              "    <button class=\"colab-df-convert\" onclick=\"convertToInteractive('df-c023ab58-31e2-4c02-8d7c-e57a49920899')\"\n",
              "            title=\"Convert this dataframe to an interactive table.\"\n",
              "            style=\"display:none;\">\n",
              "\n",
              "  <svg xmlns=\"http://www.w3.org/2000/svg\" height=\"24px\" viewBox=\"0 -960 960 960\">\n",
              "    <path d=\"M120-120v-720h720v720H120Zm60-500h600v-160H180v160Zm220 220h160v-160H400v160Zm0 220h160v-160H400v160ZM180-400h160v-160H180v160Zm440 0h160v-160H620v160ZM180-180h160v-160H180v160Zm440 0h160v-160H620v160Z\"/>\n",
              "  </svg>\n",
              "    </button>\n",
              "\n",
              "  <style>\n",
              "    .colab-df-container {\n",
              "      display:flex;\n",
              "      gap: 12px;\n",
              "    }\n",
              "\n",
              "    .colab-df-convert {\n",
              "      background-color: #E8F0FE;\n",
              "      border: none;\n",
              "      border-radius: 50%;\n",
              "      cursor: pointer;\n",
              "      display: none;\n",
              "      fill: #1967D2;\n",
              "      height: 32px;\n",
              "      padding: 0 0 0 0;\n",
              "      width: 32px;\n",
              "    }\n",
              "\n",
              "    .colab-df-convert:hover {\n",
              "      background-color: #E2EBFA;\n",
              "      box-shadow: 0px 1px 2px rgba(60, 64, 67, 0.3), 0px 1px 3px 1px rgba(60, 64, 67, 0.15);\n",
              "      fill: #174EA6;\n",
              "    }\n",
              "\n",
              "    .colab-df-buttons div {\n",
              "      margin-bottom: 4px;\n",
              "    }\n",
              "\n",
              "    [theme=dark] .colab-df-convert {\n",
              "      background-color: #3B4455;\n",
              "      fill: #D2E3FC;\n",
              "    }\n",
              "\n",
              "    [theme=dark] .colab-df-convert:hover {\n",
              "      background-color: #434B5C;\n",
              "      box-shadow: 0px 1px 3px 1px rgba(0, 0, 0, 0.15);\n",
              "      filter: drop-shadow(0px 1px 2px rgba(0, 0, 0, 0.3));\n",
              "      fill: #FFFFFF;\n",
              "    }\n",
              "  </style>\n",
              "\n",
              "    <script>\n",
              "      const buttonEl =\n",
              "        document.querySelector('#df-c023ab58-31e2-4c02-8d7c-e57a49920899 button.colab-df-convert');\n",
              "      buttonEl.style.display =\n",
              "        google.colab.kernel.accessAllowed ? 'block' : 'none';\n",
              "\n",
              "      async function convertToInteractive(key) {\n",
              "        const element = document.querySelector('#df-c023ab58-31e2-4c02-8d7c-e57a49920899');\n",
              "        const dataTable =\n",
              "          await google.colab.kernel.invokeFunction('convertToInteractive',\n",
              "                                                    [key], {});\n",
              "        if (!dataTable) return;\n",
              "\n",
              "        const docLinkHtml = 'Like what you see? Visit the ' +\n",
              "          '<a target=\"_blank\" href=https://colab.research.google.com/notebooks/data_table.ipynb>data table notebook</a>'\n",
              "          + ' to learn more about interactive tables.';\n",
              "        element.innerHTML = '';\n",
              "        dataTable['output_type'] = 'display_data';\n",
              "        await google.colab.output.renderOutput(dataTable, element);\n",
              "        const docLink = document.createElement('div');\n",
              "        docLink.innerHTML = docLinkHtml;\n",
              "        element.appendChild(docLink);\n",
              "      }\n",
              "    </script>\n",
              "  </div>\n",
              "\n",
              "\n",
              "<div id=\"df-bfb0d1af-71f8-4b57-81c0-097cf27f53bf\">\n",
              "  <button class=\"colab-df-quickchart\" onclick=\"quickchart('df-bfb0d1af-71f8-4b57-81c0-097cf27f53bf')\"\n",
              "            title=\"Suggest charts\"\n",
              "            style=\"display:none;\">\n",
              "\n",
              "<svg xmlns=\"http://www.w3.org/2000/svg\" height=\"24px\"viewBox=\"0 0 24 24\"\n",
              "     width=\"24px\">\n",
              "    <g>\n",
              "        <path d=\"M19 3H5c-1.1 0-2 .9-2 2v14c0 1.1.9 2 2 2h14c1.1 0 2-.9 2-2V5c0-1.1-.9-2-2-2zM9 17H7v-7h2v7zm4 0h-2V7h2v10zm4 0h-2v-4h2v4z\"/>\n",
              "    </g>\n",
              "</svg>\n",
              "  </button>\n",
              "\n",
              "<style>\n",
              "  .colab-df-quickchart {\n",
              "      --bg-color: #E8F0FE;\n",
              "      --fill-color: #1967D2;\n",
              "      --hover-bg-color: #E2EBFA;\n",
              "      --hover-fill-color: #174EA6;\n",
              "      --disabled-fill-color: #AAA;\n",
              "      --disabled-bg-color: #DDD;\n",
              "  }\n",
              "\n",
              "  [theme=dark] .colab-df-quickchart {\n",
              "      --bg-color: #3B4455;\n",
              "      --fill-color: #D2E3FC;\n",
              "      --hover-bg-color: #434B5C;\n",
              "      --hover-fill-color: #FFFFFF;\n",
              "      --disabled-bg-color: #3B4455;\n",
              "      --disabled-fill-color: #666;\n",
              "  }\n",
              "\n",
              "  .colab-df-quickchart {\n",
              "    background-color: var(--bg-color);\n",
              "    border: none;\n",
              "    border-radius: 50%;\n",
              "    cursor: pointer;\n",
              "    display: none;\n",
              "    fill: var(--fill-color);\n",
              "    height: 32px;\n",
              "    padding: 0;\n",
              "    width: 32px;\n",
              "  }\n",
              "\n",
              "  .colab-df-quickchart:hover {\n",
              "    background-color: var(--hover-bg-color);\n",
              "    box-shadow: 0 1px 2px rgba(60, 64, 67, 0.3), 0 1px 3px 1px rgba(60, 64, 67, 0.15);\n",
              "    fill: var(--button-hover-fill-color);\n",
              "  }\n",
              "\n",
              "  .colab-df-quickchart-complete:disabled,\n",
              "  .colab-df-quickchart-complete:disabled:hover {\n",
              "    background-color: var(--disabled-bg-color);\n",
              "    fill: var(--disabled-fill-color);\n",
              "    box-shadow: none;\n",
              "  }\n",
              "\n",
              "  .colab-df-spinner {\n",
              "    border: 2px solid var(--fill-color);\n",
              "    border-color: transparent;\n",
              "    border-bottom-color: var(--fill-color);\n",
              "    animation:\n",
              "      spin 1s steps(1) infinite;\n",
              "  }\n",
              "\n",
              "  @keyframes spin {\n",
              "    0% {\n",
              "      border-color: transparent;\n",
              "      border-bottom-color: var(--fill-color);\n",
              "      border-left-color: var(--fill-color);\n",
              "    }\n",
              "    20% {\n",
              "      border-color: transparent;\n",
              "      border-left-color: var(--fill-color);\n",
              "      border-top-color: var(--fill-color);\n",
              "    }\n",
              "    30% {\n",
              "      border-color: transparent;\n",
              "      border-left-color: var(--fill-color);\n",
              "      border-top-color: var(--fill-color);\n",
              "      border-right-color: var(--fill-color);\n",
              "    }\n",
              "    40% {\n",
              "      border-color: transparent;\n",
              "      border-right-color: var(--fill-color);\n",
              "      border-top-color: var(--fill-color);\n",
              "    }\n",
              "    60% {\n",
              "      border-color: transparent;\n",
              "      border-right-color: var(--fill-color);\n",
              "    }\n",
              "    80% {\n",
              "      border-color: transparent;\n",
              "      border-right-color: var(--fill-color);\n",
              "      border-bottom-color: var(--fill-color);\n",
              "    }\n",
              "    90% {\n",
              "      border-color: transparent;\n",
              "      border-bottom-color: var(--fill-color);\n",
              "    }\n",
              "  }\n",
              "</style>\n",
              "\n",
              "  <script>\n",
              "    async function quickchart(key) {\n",
              "      const quickchartButtonEl =\n",
              "        document.querySelector('#' + key + ' button');\n",
              "      quickchartButtonEl.disabled = true;  // To prevent multiple clicks.\n",
              "      quickchartButtonEl.classList.add('colab-df-spinner');\n",
              "      try {\n",
              "        const charts = await google.colab.kernel.invokeFunction(\n",
              "            'suggestCharts', [key], {});\n",
              "      } catch (error) {\n",
              "        console.error('Error during call to suggestCharts:', error);\n",
              "      }\n",
              "      quickchartButtonEl.classList.remove('colab-df-spinner');\n",
              "      quickchartButtonEl.classList.add('colab-df-quickchart-complete');\n",
              "    }\n",
              "    (() => {\n",
              "      let quickchartButtonEl =\n",
              "        document.querySelector('#df-bfb0d1af-71f8-4b57-81c0-097cf27f53bf button');\n",
              "      quickchartButtonEl.style.display =\n",
              "        google.colab.kernel.accessAllowed ? 'block' : 'none';\n",
              "    })();\n",
              "  </script>\n",
              "</div>\n",
              "\n",
              "    </div>\n",
              "  </div>\n"
            ]
          },
          "metadata": {},
          "execution_count": 51
        }
      ]
    },
    {
      "cell_type": "code",
      "source": [
        "df.corr()['Outcome']\n",
        "#I want to check how much each column impacts the outcome"
      ],
      "metadata": {
        "colab": {
          "base_uri": "https://localhost:8080/"
        },
        "id": "IDocpUrigvaX",
        "outputId": "42363f95-a054-4641-95f8-c793aff14037"
      },
      "execution_count": 52,
      "outputs": [
        {
          "output_type": "execute_result",
          "data": {
            "text/plain": [
              "Pregnancies                 0.221898\n",
              "Glucose                     0.466581\n",
              "BloodPressure               0.065068\n",
              "SkinThickness               0.074752\n",
              "Insulin                     0.130548\n",
              "BMI                         0.292695\n",
              "DiabetesPedigreeFunction    0.173844\n",
              "Age                         0.238356\n",
              "Outcome                     1.000000\n",
              "Name: Outcome, dtype: float64"
            ]
          },
          "metadata": {},
          "execution_count": 52
        }
      ]
    },
    {
      "cell_type": "code",
      "source": [
        "X=df.iloc[:,:-1].values\n",
        "# My X will be all the columns excluding the last one\n",
        "\n",
        "y=df.iloc[:,-1].values\n",
        "# : represents all the rows\n",
        "# :-1 represents all the columns except the last one"
      ],
      "metadata": {
        "id": "pTRnun2lhFbr"
      },
      "execution_count": 53,
      "outputs": []
    },
    {
      "cell_type": "markdown",
      "source": [
        "Scaling the data"
      ],
      "metadata": {
        "id": "aOsa3eN-iR5r"
      }
    },
    {
      "cell_type": "code",
      "source": [
        "# Now we will scale the data\n",
        "\n",
        "from sklearn.preprocessing import StandardScaler\n",
        "scaler = StandardScaler()\n",
        "# creating obj of the class"
      ],
      "metadata": {
        "id": "QqS7XKEgiGG-"
      },
      "execution_count": 54,
      "outputs": []
    },
    {
      "cell_type": "code",
      "source": [
        "X = scaler.fit_transform(X)\n",
        "X"
      ],
      "metadata": {
        "colab": {
          "base_uri": "https://localhost:8080/"
        },
        "id": "WsN1e5OZinFg",
        "outputId": "ca1aeb55-a4b1-4bd3-92a3-d7d0c36bac09"
      },
      "execution_count": 55,
      "outputs": [
        {
          "output_type": "execute_result",
          "data": {
            "text/plain": [
              "array([[ 0.63994726,  0.84832379,  0.14964075, ...,  0.20401277,\n",
              "         0.46849198,  1.4259954 ],\n",
              "       [-0.84488505, -1.12339636, -0.16054575, ..., -0.68442195,\n",
              "        -0.36506078, -0.19067191],\n",
              "       [ 1.23388019,  1.94372388, -0.26394125, ..., -1.10325546,\n",
              "         0.60439732, -0.10558415],\n",
              "       ...,\n",
              "       [ 0.3429808 ,  0.00330087,  0.14964075, ..., -0.73518964,\n",
              "        -0.68519336, -0.27575966],\n",
              "       [-0.84488505,  0.1597866 , -0.47073225, ..., -0.24020459,\n",
              "        -0.37110101,  1.17073215],\n",
              "       [-0.84488505, -0.8730192 ,  0.04624525, ..., -0.20212881,\n",
              "        -0.47378505, -0.87137393]])"
            ]
          },
          "metadata": {},
          "execution_count": 55
        }
      ]
    },
    {
      "cell_type": "code",
      "source": [
        "X.shape"
      ],
      "metadata": {
        "colab": {
          "base_uri": "https://localhost:8080/"
        },
        "id": "xwleMCiuiwst",
        "outputId": "c46d8177-f1ba-4169-bdc4-3ef18e5f6bba"
      },
      "execution_count": 56,
      "outputs": [
        {
          "output_type": "execute_result",
          "data": {
            "text/plain": [
              "(768, 8)"
            ]
          },
          "metadata": {},
          "execution_count": 56
        }
      ]
    },
    {
      "cell_type": "code",
      "source": [
        "from sklearn.model_selection import train_test_split\n",
        "X_train,X_test,y_train,y_test=train_test_split(X,y,test_size=0.2,random_state=1)"
      ],
      "metadata": {
        "id": "qYm1m1Bci3UD"
      },
      "execution_count": 57,
      "outputs": []
    },
    {
      "cell_type": "code",
      "source": [
        "import tensorflow\n",
        "from tensorflow import keras\n",
        "from keras import Sequential\n",
        "from keras.layers import Dense,Dropout"
      ],
      "metadata": {
        "id": "t0v1u3t7jJ4u"
      },
      "execution_count": 108,
      "outputs": []
    },
    {
      "cell_type": "code",
      "source": [
        "model= Sequential()\n",
        "model.add(Dense(32,activation='relu',input_dim=8))\n",
        "model.add(Dense(1,activation='sigmoid'))\n",
        "# we chose sigmoid as activation as it is a classification model\n",
        "\n",
        "model.compile(optimizer='Adam',loss='binary_crossentropy',metrics=['accuracy'])"
      ],
      "metadata": {
        "id": "0mRW75eujauB"
      },
      "execution_count": 59,
      "outputs": []
    },
    {
      "cell_type": "code",
      "source": [
        "model.fit(X_train,y_train,batch_size=32,epochs=100,validation_data=(X_test,y_test))"
      ],
      "metadata": {
        "colab": {
          "base_uri": "https://localhost:8080/"
        },
        "id": "VLLYYpZrjy3U",
        "outputId": "f78c0207-3e9b-4317-e715-574d2e5884c7"
      },
      "execution_count": 60,
      "outputs": [
        {
          "output_type": "stream",
          "name": "stdout",
          "text": [
            "Epoch 1/100\n",
            "20/20 [==============================] - 1s 11ms/step - loss: 0.7468 - accuracy: 0.4739 - val_loss: 0.7268 - val_accuracy: 0.4935\n",
            "Epoch 2/100\n",
            "20/20 [==============================] - 0s 4ms/step - loss: 0.6743 - accuracy: 0.5847 - val_loss: 0.6626 - val_accuracy: 0.5844\n",
            "Epoch 3/100\n",
            "20/20 [==============================] - 0s 4ms/step - loss: 0.6215 - accuracy: 0.6612 - val_loss: 0.6169 - val_accuracy: 0.6688\n",
            "Epoch 4/100\n",
            "20/20 [==============================] - 0s 3ms/step - loss: 0.5841 - accuracy: 0.7085 - val_loss: 0.5829 - val_accuracy: 0.7403\n",
            "Epoch 5/100\n",
            "20/20 [==============================] - 0s 5ms/step - loss: 0.5572 - accuracy: 0.7410 - val_loss: 0.5594 - val_accuracy: 0.7532\n",
            "Epoch 6/100\n",
            "20/20 [==============================] - 0s 4ms/step - loss: 0.5358 - accuracy: 0.7410 - val_loss: 0.5410 - val_accuracy: 0.7597\n",
            "Epoch 7/100\n",
            "20/20 [==============================] - 0s 5ms/step - loss: 0.5196 - accuracy: 0.7459 - val_loss: 0.5266 - val_accuracy: 0.7532\n",
            "Epoch 8/100\n",
            "20/20 [==============================] - 0s 4ms/step - loss: 0.5080 - accuracy: 0.7590 - val_loss: 0.5159 - val_accuracy: 0.7532\n",
            "Epoch 9/100\n",
            "20/20 [==============================] - 0s 4ms/step - loss: 0.4977 - accuracy: 0.7606 - val_loss: 0.5081 - val_accuracy: 0.7532\n",
            "Epoch 10/100\n",
            "20/20 [==============================] - 0s 4ms/step - loss: 0.4908 - accuracy: 0.7638 - val_loss: 0.5007 - val_accuracy: 0.7597\n",
            "Epoch 11/100\n",
            "20/20 [==============================] - 0s 3ms/step - loss: 0.4843 - accuracy: 0.7671 - val_loss: 0.4958 - val_accuracy: 0.7597\n",
            "Epoch 12/100\n",
            "20/20 [==============================] - 0s 4ms/step - loss: 0.4787 - accuracy: 0.7655 - val_loss: 0.4911 - val_accuracy: 0.7597\n",
            "Epoch 13/100\n",
            "20/20 [==============================] - 0s 4ms/step - loss: 0.4748 - accuracy: 0.7638 - val_loss: 0.4881 - val_accuracy: 0.7597\n",
            "Epoch 14/100\n",
            "20/20 [==============================] - 0s 3ms/step - loss: 0.4715 - accuracy: 0.7590 - val_loss: 0.4860 - val_accuracy: 0.7597\n",
            "Epoch 15/100\n",
            "20/20 [==============================] - 0s 4ms/step - loss: 0.4684 - accuracy: 0.7655 - val_loss: 0.4834 - val_accuracy: 0.7727\n",
            "Epoch 16/100\n",
            "20/20 [==============================] - 0s 4ms/step - loss: 0.4660 - accuracy: 0.7671 - val_loss: 0.4812 - val_accuracy: 0.7792\n",
            "Epoch 17/100\n",
            "20/20 [==============================] - 0s 5ms/step - loss: 0.4642 - accuracy: 0.7655 - val_loss: 0.4794 - val_accuracy: 0.7792\n",
            "Epoch 18/100\n",
            "20/20 [==============================] - 0s 4ms/step - loss: 0.4626 - accuracy: 0.7655 - val_loss: 0.4778 - val_accuracy: 0.7792\n",
            "Epoch 19/100\n",
            "20/20 [==============================] - 0s 3ms/step - loss: 0.4603 - accuracy: 0.7687 - val_loss: 0.4776 - val_accuracy: 0.7792\n",
            "Epoch 20/100\n",
            "20/20 [==============================] - 0s 4ms/step - loss: 0.4586 - accuracy: 0.7655 - val_loss: 0.4771 - val_accuracy: 0.7857\n",
            "Epoch 21/100\n",
            "20/20 [==============================] - 0s 4ms/step - loss: 0.4575 - accuracy: 0.7671 - val_loss: 0.4763 - val_accuracy: 0.7792\n",
            "Epoch 22/100\n",
            "20/20 [==============================] - 0s 3ms/step - loss: 0.4560 - accuracy: 0.7704 - val_loss: 0.4747 - val_accuracy: 0.7792\n",
            "Epoch 23/100\n",
            "20/20 [==============================] - 0s 4ms/step - loss: 0.4552 - accuracy: 0.7704 - val_loss: 0.4740 - val_accuracy: 0.7727\n",
            "Epoch 24/100\n",
            "20/20 [==============================] - 0s 3ms/step - loss: 0.4540 - accuracy: 0.7687 - val_loss: 0.4741 - val_accuracy: 0.7727\n",
            "Epoch 25/100\n",
            "20/20 [==============================] - 0s 4ms/step - loss: 0.4529 - accuracy: 0.7687 - val_loss: 0.4731 - val_accuracy: 0.7662\n",
            "Epoch 26/100\n",
            "20/20 [==============================] - 0s 4ms/step - loss: 0.4521 - accuracy: 0.7655 - val_loss: 0.4724 - val_accuracy: 0.7792\n",
            "Epoch 27/100\n",
            "20/20 [==============================] - 0s 4ms/step - loss: 0.4516 - accuracy: 0.7638 - val_loss: 0.4719 - val_accuracy: 0.7792\n",
            "Epoch 28/100\n",
            "20/20 [==============================] - 0s 4ms/step - loss: 0.4509 - accuracy: 0.7671 - val_loss: 0.4712 - val_accuracy: 0.7792\n",
            "Epoch 29/100\n",
            "20/20 [==============================] - 0s 4ms/step - loss: 0.4502 - accuracy: 0.7704 - val_loss: 0.4711 - val_accuracy: 0.7792\n",
            "Epoch 30/100\n",
            "20/20 [==============================] - 0s 4ms/step - loss: 0.4492 - accuracy: 0.7704 - val_loss: 0.4705 - val_accuracy: 0.7792\n",
            "Epoch 31/100\n",
            "20/20 [==============================] - 0s 4ms/step - loss: 0.4487 - accuracy: 0.7704 - val_loss: 0.4699 - val_accuracy: 0.7792\n",
            "Epoch 32/100\n",
            "20/20 [==============================] - 0s 4ms/step - loss: 0.4484 - accuracy: 0.7687 - val_loss: 0.4691 - val_accuracy: 0.7792\n",
            "Epoch 33/100\n",
            "20/20 [==============================] - 0s 3ms/step - loss: 0.4474 - accuracy: 0.7736 - val_loss: 0.4701 - val_accuracy: 0.7792\n",
            "Epoch 34/100\n",
            "20/20 [==============================] - 0s 4ms/step - loss: 0.4465 - accuracy: 0.7720 - val_loss: 0.4705 - val_accuracy: 0.7857\n",
            "Epoch 35/100\n",
            "20/20 [==============================] - 0s 4ms/step - loss: 0.4458 - accuracy: 0.7736 - val_loss: 0.4704 - val_accuracy: 0.7792\n",
            "Epoch 36/100\n",
            "20/20 [==============================] - 0s 4ms/step - loss: 0.4454 - accuracy: 0.7752 - val_loss: 0.4722 - val_accuracy: 0.7792\n",
            "Epoch 37/100\n",
            "20/20 [==============================] - 0s 3ms/step - loss: 0.4449 - accuracy: 0.7752 - val_loss: 0.4699 - val_accuracy: 0.7792\n",
            "Epoch 38/100\n",
            "20/20 [==============================] - 0s 5ms/step - loss: 0.4439 - accuracy: 0.7769 - val_loss: 0.4690 - val_accuracy: 0.7792\n",
            "Epoch 39/100\n",
            "20/20 [==============================] - 0s 4ms/step - loss: 0.4434 - accuracy: 0.7736 - val_loss: 0.4673 - val_accuracy: 0.7792\n",
            "Epoch 40/100\n",
            "20/20 [==============================] - 0s 4ms/step - loss: 0.4430 - accuracy: 0.7752 - val_loss: 0.4666 - val_accuracy: 0.7857\n",
            "Epoch 41/100\n",
            "20/20 [==============================] - 0s 7ms/step - loss: 0.4421 - accuracy: 0.7769 - val_loss: 0.4665 - val_accuracy: 0.7792\n",
            "Epoch 42/100\n",
            "20/20 [==============================] - 0s 6ms/step - loss: 0.4427 - accuracy: 0.7785 - val_loss: 0.4679 - val_accuracy: 0.7792\n",
            "Epoch 43/100\n",
            "20/20 [==============================] - 0s 6ms/step - loss: 0.4415 - accuracy: 0.7818 - val_loss: 0.4666 - val_accuracy: 0.7792\n",
            "Epoch 44/100\n",
            "20/20 [==============================] - 0s 5ms/step - loss: 0.4413 - accuracy: 0.7801 - val_loss: 0.4658 - val_accuracy: 0.7922\n",
            "Epoch 45/100\n",
            "20/20 [==============================] - 0s 6ms/step - loss: 0.4406 - accuracy: 0.7785 - val_loss: 0.4650 - val_accuracy: 0.7857\n",
            "Epoch 46/100\n",
            "20/20 [==============================] - 0s 6ms/step - loss: 0.4403 - accuracy: 0.7801 - val_loss: 0.4630 - val_accuracy: 0.7987\n",
            "Epoch 47/100\n",
            "20/20 [==============================] - 0s 5ms/step - loss: 0.4401 - accuracy: 0.7834 - val_loss: 0.4628 - val_accuracy: 0.7857\n",
            "Epoch 48/100\n",
            "20/20 [==============================] - 0s 5ms/step - loss: 0.4394 - accuracy: 0.7834 - val_loss: 0.4630 - val_accuracy: 0.7857\n",
            "Epoch 49/100\n",
            "20/20 [==============================] - 0s 5ms/step - loss: 0.4387 - accuracy: 0.7850 - val_loss: 0.4634 - val_accuracy: 0.7792\n",
            "Epoch 50/100\n",
            "20/20 [==============================] - 0s 6ms/step - loss: 0.4387 - accuracy: 0.7834 - val_loss: 0.4632 - val_accuracy: 0.7857\n",
            "Epoch 51/100\n",
            "20/20 [==============================] - 0s 6ms/step - loss: 0.4378 - accuracy: 0.7801 - val_loss: 0.4626 - val_accuracy: 0.7792\n",
            "Epoch 52/100\n",
            "20/20 [==============================] - 0s 9ms/step - loss: 0.4376 - accuracy: 0.7834 - val_loss: 0.4626 - val_accuracy: 0.7792\n",
            "Epoch 53/100\n",
            "20/20 [==============================] - 0s 8ms/step - loss: 0.4372 - accuracy: 0.7818 - val_loss: 0.4620 - val_accuracy: 0.7857\n",
            "Epoch 54/100\n",
            "20/20 [==============================] - 0s 8ms/step - loss: 0.4379 - accuracy: 0.7818 - val_loss: 0.4630 - val_accuracy: 0.7792\n",
            "Epoch 55/100\n",
            "20/20 [==============================] - 0s 8ms/step - loss: 0.4363 - accuracy: 0.7915 - val_loss: 0.4622 - val_accuracy: 0.7792\n",
            "Epoch 56/100\n",
            "20/20 [==============================] - 0s 8ms/step - loss: 0.4359 - accuracy: 0.7883 - val_loss: 0.4627 - val_accuracy: 0.7792\n",
            "Epoch 57/100\n",
            "20/20 [==============================] - 0s 7ms/step - loss: 0.4358 - accuracy: 0.7883 - val_loss: 0.4631 - val_accuracy: 0.7727\n",
            "Epoch 58/100\n",
            "20/20 [==============================] - 0s 6ms/step - loss: 0.4350 - accuracy: 0.7866 - val_loss: 0.4623 - val_accuracy: 0.7857\n",
            "Epoch 59/100\n",
            "20/20 [==============================] - 0s 6ms/step - loss: 0.4347 - accuracy: 0.7883 - val_loss: 0.4632 - val_accuracy: 0.7662\n",
            "Epoch 60/100\n",
            "20/20 [==============================] - 0s 5ms/step - loss: 0.4342 - accuracy: 0.7866 - val_loss: 0.4625 - val_accuracy: 0.7727\n",
            "Epoch 61/100\n",
            "20/20 [==============================] - 0s 5ms/step - loss: 0.4343 - accuracy: 0.7883 - val_loss: 0.4620 - val_accuracy: 0.7792\n",
            "Epoch 62/100\n",
            "20/20 [==============================] - 0s 6ms/step - loss: 0.4338 - accuracy: 0.7850 - val_loss: 0.4625 - val_accuracy: 0.7792\n",
            "Epoch 63/100\n",
            "20/20 [==============================] - 0s 5ms/step - loss: 0.4339 - accuracy: 0.7899 - val_loss: 0.4623 - val_accuracy: 0.7662\n",
            "Epoch 64/100\n",
            "20/20 [==============================] - 0s 5ms/step - loss: 0.4333 - accuracy: 0.7899 - val_loss: 0.4616 - val_accuracy: 0.7727\n",
            "Epoch 65/100\n",
            "20/20 [==============================] - 0s 6ms/step - loss: 0.4328 - accuracy: 0.7883 - val_loss: 0.4623 - val_accuracy: 0.7727\n",
            "Epoch 66/100\n",
            "20/20 [==============================] - 0s 8ms/step - loss: 0.4323 - accuracy: 0.7915 - val_loss: 0.4619 - val_accuracy: 0.7727\n",
            "Epoch 67/100\n",
            "20/20 [==============================] - 0s 5ms/step - loss: 0.4322 - accuracy: 0.7915 - val_loss: 0.4624 - val_accuracy: 0.7792\n",
            "Epoch 68/100\n",
            "20/20 [==============================] - 0s 5ms/step - loss: 0.4318 - accuracy: 0.7915 - val_loss: 0.4627 - val_accuracy: 0.7792\n",
            "Epoch 69/100\n",
            "20/20 [==============================] - 0s 7ms/step - loss: 0.4316 - accuracy: 0.7899 - val_loss: 0.4627 - val_accuracy: 0.7792\n",
            "Epoch 70/100\n",
            "20/20 [==============================] - 0s 6ms/step - loss: 0.4315 - accuracy: 0.7932 - val_loss: 0.4631 - val_accuracy: 0.7792\n",
            "Epoch 71/100\n",
            "20/20 [==============================] - 0s 5ms/step - loss: 0.4313 - accuracy: 0.7964 - val_loss: 0.4635 - val_accuracy: 0.7792\n",
            "Epoch 72/100\n",
            "20/20 [==============================] - 0s 5ms/step - loss: 0.4307 - accuracy: 0.7915 - val_loss: 0.4636 - val_accuracy: 0.7792\n",
            "Epoch 73/100\n",
            "20/20 [==============================] - 0s 5ms/step - loss: 0.4304 - accuracy: 0.7899 - val_loss: 0.4631 - val_accuracy: 0.7792\n",
            "Epoch 74/100\n",
            "20/20 [==============================] - 0s 5ms/step - loss: 0.4298 - accuracy: 0.7964 - val_loss: 0.4638 - val_accuracy: 0.7792\n",
            "Epoch 75/100\n",
            "20/20 [==============================] - 0s 6ms/step - loss: 0.4300 - accuracy: 0.7948 - val_loss: 0.4635 - val_accuracy: 0.7792\n",
            "Epoch 76/100\n",
            "20/20 [==============================] - 0s 4ms/step - loss: 0.4298 - accuracy: 0.7964 - val_loss: 0.4625 - val_accuracy: 0.7792\n",
            "Epoch 77/100\n",
            "20/20 [==============================] - 0s 4ms/step - loss: 0.4291 - accuracy: 0.7932 - val_loss: 0.4630 - val_accuracy: 0.7792\n",
            "Epoch 78/100\n",
            "20/20 [==============================] - 0s 4ms/step - loss: 0.4289 - accuracy: 0.7948 - val_loss: 0.4641 - val_accuracy: 0.7727\n",
            "Epoch 79/100\n",
            "20/20 [==============================] - 0s 4ms/step - loss: 0.4287 - accuracy: 0.7948 - val_loss: 0.4638 - val_accuracy: 0.7727\n",
            "Epoch 80/100\n",
            "20/20 [==============================] - 0s 4ms/step - loss: 0.4284 - accuracy: 0.7915 - val_loss: 0.4626 - val_accuracy: 0.7727\n",
            "Epoch 81/100\n",
            "20/20 [==============================] - 0s 4ms/step - loss: 0.4285 - accuracy: 0.7915 - val_loss: 0.4633 - val_accuracy: 0.7792\n",
            "Epoch 82/100\n",
            "20/20 [==============================] - 0s 4ms/step - loss: 0.4275 - accuracy: 0.7915 - val_loss: 0.4619 - val_accuracy: 0.7792\n",
            "Epoch 83/100\n",
            "20/20 [==============================] - 0s 4ms/step - loss: 0.4274 - accuracy: 0.7948 - val_loss: 0.4626 - val_accuracy: 0.7792\n",
            "Epoch 84/100\n",
            "20/20 [==============================] - 0s 4ms/step - loss: 0.4270 - accuracy: 0.7948 - val_loss: 0.4621 - val_accuracy: 0.7792\n",
            "Epoch 85/100\n",
            "20/20 [==============================] - 0s 4ms/step - loss: 0.4267 - accuracy: 0.7948 - val_loss: 0.4620 - val_accuracy: 0.7857\n",
            "Epoch 86/100\n",
            "20/20 [==============================] - 0s 4ms/step - loss: 0.4264 - accuracy: 0.7932 - val_loss: 0.4619 - val_accuracy: 0.7857\n",
            "Epoch 87/100\n",
            "20/20 [==============================] - 0s 4ms/step - loss: 0.4259 - accuracy: 0.7915 - val_loss: 0.4614 - val_accuracy: 0.7857\n",
            "Epoch 88/100\n",
            "20/20 [==============================] - 0s 4ms/step - loss: 0.4259 - accuracy: 0.7932 - val_loss: 0.4624 - val_accuracy: 0.7727\n",
            "Epoch 89/100\n",
            "20/20 [==============================] - 0s 4ms/step - loss: 0.4257 - accuracy: 0.7948 - val_loss: 0.4616 - val_accuracy: 0.7792\n",
            "Epoch 90/100\n",
            "20/20 [==============================] - 0s 4ms/step - loss: 0.4255 - accuracy: 0.7964 - val_loss: 0.4621 - val_accuracy: 0.7857\n",
            "Epoch 91/100\n",
            "20/20 [==============================] - 0s 4ms/step - loss: 0.4249 - accuracy: 0.7980 - val_loss: 0.4620 - val_accuracy: 0.7792\n",
            "Epoch 92/100\n",
            "20/20 [==============================] - 0s 4ms/step - loss: 0.4250 - accuracy: 0.7964 - val_loss: 0.4607 - val_accuracy: 0.7857\n",
            "Epoch 93/100\n",
            "20/20 [==============================] - 0s 4ms/step - loss: 0.4251 - accuracy: 0.7932 - val_loss: 0.4618 - val_accuracy: 0.7792\n",
            "Epoch 94/100\n",
            "20/20 [==============================] - 0s 3ms/step - loss: 0.4237 - accuracy: 0.7932 - val_loss: 0.4617 - val_accuracy: 0.7857\n",
            "Epoch 95/100\n",
            "20/20 [==============================] - 0s 4ms/step - loss: 0.4242 - accuracy: 0.7948 - val_loss: 0.4616 - val_accuracy: 0.7857\n",
            "Epoch 96/100\n",
            "20/20 [==============================] - 0s 5ms/step - loss: 0.4238 - accuracy: 0.7948 - val_loss: 0.4604 - val_accuracy: 0.7857\n",
            "Epoch 97/100\n",
            "20/20 [==============================] - 0s 4ms/step - loss: 0.4231 - accuracy: 0.7948 - val_loss: 0.4610 - val_accuracy: 0.7857\n",
            "Epoch 98/100\n",
            "20/20 [==============================] - 0s 4ms/step - loss: 0.4228 - accuracy: 0.7980 - val_loss: 0.4595 - val_accuracy: 0.7857\n",
            "Epoch 99/100\n",
            "20/20 [==============================] - 0s 5ms/step - loss: 0.4225 - accuracy: 0.7980 - val_loss: 0.4602 - val_accuracy: 0.7792\n",
            "Epoch 100/100\n",
            "20/20 [==============================] - 0s 4ms/step - loss: 0.4220 - accuracy: 0.7964 - val_loss: 0.4600 - val_accuracy: 0.7857\n"
          ]
        },
        {
          "output_type": "execute_result",
          "data": {
            "text/plain": [
              "<keras.src.callbacks.History at 0x781308ba65f0>"
            ]
          },
          "metadata": {},
          "execution_count": 60
        }
      ]
    },
    {
      "cell_type": "markdown",
      "source": [
        "HYPERPARAMETER TUNING"
      ],
      "metadata": {
        "id": "QKcdju7qpLXl"
      }
    },
    {
      "cell_type": "code",
      "source": [
        " !pip install -U keras-tuner\n",
        " # downloading the main tuning library of keras"
      ],
      "metadata": {
        "colab": {
          "base_uri": "https://localhost:8080/"
        },
        "id": "Be7vaxABkPsf",
        "outputId": "a2c7de34-b154-41ee-cac6-1fd714d1999b"
      },
      "execution_count": 61,
      "outputs": [
        {
          "output_type": "stream",
          "name": "stdout",
          "text": [
            "Requirement already satisfied: keras-tuner in /usr/local/lib/python3.10/dist-packages (1.4.6)\n",
            "Requirement already satisfied: keras in /usr/local/lib/python3.10/dist-packages (from keras-tuner) (2.15.0)\n",
            "Requirement already satisfied: packaging in /usr/local/lib/python3.10/dist-packages (from keras-tuner) (23.2)\n",
            "Requirement already satisfied: requests in /usr/local/lib/python3.10/dist-packages (from keras-tuner) (2.31.0)\n",
            "Requirement already satisfied: kt-legacy in /usr/local/lib/python3.10/dist-packages (from keras-tuner) (1.0.5)\n",
            "Requirement already satisfied: charset-normalizer<4,>=2 in /usr/local/lib/python3.10/dist-packages (from requests->keras-tuner) (3.3.2)\n",
            "Requirement already satisfied: idna<4,>=2.5 in /usr/local/lib/python3.10/dist-packages (from requests->keras-tuner) (3.6)\n",
            "Requirement already satisfied: urllib3<3,>=1.21.1 in /usr/local/lib/python3.10/dist-packages (from requests->keras-tuner) (2.0.7)\n",
            "Requirement already satisfied: certifi>=2017.4.17 in /usr/local/lib/python3.10/dist-packages (from requests->keras-tuner) (2023.11.17)\n"
          ]
        }
      ]
    },
    {
      "cell_type": "code",
      "source": [
        "import kerastuner as kt"
      ],
      "metadata": {
        "id": "RYm66onKo9q_"
      },
      "execution_count": 62,
      "outputs": []
    },
    {
      "cell_type": "code",
      "source": [
        "# 1. Adding an optimizer\n",
        "\n",
        "# we are creating an object\n",
        "def build_model(hp):\n",
        "  # hp= hyperparameter\n",
        "\n",
        "  model=Sequential()\n",
        "  model.add(Dense(32,activation='relu',input_dim=8))\n",
        "  model.add(Dense(1,activation='sigmoid'))\n",
        "\n",
        "  opt=hp.Choice('optimizer',values=['adam','sgd','rmsprop','adadelta'])\n",
        "  # we are giving a choice of optimizers\n",
        "  model.compile(optimizer=opt,loss='binary_crossentropy',metrics=['accuracy'])\n",
        "\n",
        "  return model"
      ],
      "metadata": {
        "id": "bVknbu6ZpQWQ"
      },
      "execution_count": 63,
      "outputs": []
    },
    {
      "cell_type": "code",
      "source": [
        "tuner=kt.RandomSearch(build_model,objective='val_accuracy',\n",
        "                      max_trials=5)"
      ],
      "metadata": {
        "id": "-AC2x3MtqpiU",
        "colab": {
          "base_uri": "https://localhost:8080/"
        },
        "outputId": "0338153a-9182-46cb-affd-f75db88142a0"
      },
      "execution_count": 64,
      "outputs": [
        {
          "output_type": "stream",
          "name": "stdout",
          "text": [
            "Reloading Tuner from ./untitled_project/tuner0.json\n"
          ]
        }
      ]
    },
    {
      "cell_type": "code",
      "source": [
        "tuner.search(X_train,y_train,epochs=5,validation_data=(X_test,y_test))"
      ],
      "metadata": {
        "id": "kSG9NQLhq9Xa"
      },
      "execution_count": 65,
      "outputs": []
    },
    {
      "cell_type": "code",
      "source": [
        "tuner.get_best_hyperparameters()[0].values\n",
        "# finding the best hyperpara"
      ],
      "metadata": {
        "colab": {
          "base_uri": "https://localhost:8080/"
        },
        "id": "quab5M4prU8M",
        "outputId": "c84dc7b5-b418-4d53-e51c-43d9b494a006"
      },
      "execution_count": 66,
      "outputs": [
        {
          "output_type": "execute_result",
          "data": {
            "text/plain": [
              "{'optimizer': 'rmsprop'}"
            ]
          },
          "metadata": {},
          "execution_count": 66
        }
      ]
    },
    {
      "cell_type": "code",
      "source": [
        "model=tuner.get_best_models(num_models=1)[0]\n",
        "\n",
        "# Since we passed 4 optimizer options,\n",
        "# we will have 4 models. So out of those\n",
        "# 4 models we are displaying the best model"
      ],
      "metadata": {
        "id": "W6SWgVuSrx0E"
      },
      "execution_count": 67,
      "outputs": []
    },
    {
      "cell_type": "code",
      "source": [
        "model.summary()"
      ],
      "metadata": {
        "colab": {
          "base_uri": "https://localhost:8080/"
        },
        "id": "ZN8_fE45r_wI",
        "outputId": "858f47af-35e5-420d-ecd9-7daa0c3fc031"
      },
      "execution_count": 68,
      "outputs": [
        {
          "output_type": "stream",
          "name": "stdout",
          "text": [
            "Model: \"sequential\"\n",
            "_________________________________________________________________\n",
            " Layer (type)                Output Shape              Param #   \n",
            "=================================================================\n",
            " dense (Dense)               (None, 32)                288       \n",
            "                                                                 \n",
            " dense_1 (Dense)             (None, 1)                 33        \n",
            "                                                                 \n",
            "=================================================================\n",
            "Total params: 321 (1.25 KB)\n",
            "Trainable params: 321 (1.25 KB)\n",
            "Non-trainable params: 0 (0.00 Byte)\n",
            "_________________________________________________________________\n"
          ]
        }
      ]
    },
    {
      "cell_type": "code",
      "source": [
        "model.fit(X_train,y_train,batch_size=32,epochs=100,initial_epoch=6,\n",
        "          validation_data=(X_test,y_test))"
      ],
      "metadata": {
        "colab": {
          "base_uri": "https://localhost:8080/"
        },
        "id": "2175b21SsUA9",
        "outputId": "f60326ff-edf6-4d32-a4de-cac02d2bdcdd"
      },
      "execution_count": 69,
      "outputs": [
        {
          "output_type": "stream",
          "name": "stdout",
          "text": [
            "Epoch 7/100\n",
            "20/20 [==============================] - 1s 12ms/step - loss: 0.5032 - accuracy: 0.7492 - val_loss: 0.5032 - val_accuracy: 0.7922\n",
            "Epoch 8/100\n",
            "20/20 [==============================] - 0s 4ms/step - loss: 0.4924 - accuracy: 0.7573 - val_loss: 0.4943 - val_accuracy: 0.7922\n",
            "Epoch 9/100\n",
            "20/20 [==============================] - 0s 4ms/step - loss: 0.4832 - accuracy: 0.7622 - val_loss: 0.4887 - val_accuracy: 0.7922\n",
            "Epoch 10/100\n",
            "20/20 [==============================] - 0s 4ms/step - loss: 0.4769 - accuracy: 0.7606 - val_loss: 0.4842 - val_accuracy: 0.7922\n",
            "Epoch 11/100\n",
            "20/20 [==============================] - 0s 3ms/step - loss: 0.4719 - accuracy: 0.7638 - val_loss: 0.4818 - val_accuracy: 0.7987\n",
            "Epoch 12/100\n",
            "20/20 [==============================] - 0s 6ms/step - loss: 0.4682 - accuracy: 0.7671 - val_loss: 0.4802 - val_accuracy: 0.8052\n",
            "Epoch 13/100\n",
            "20/20 [==============================] - 0s 6ms/step - loss: 0.4647 - accuracy: 0.7687 - val_loss: 0.4784 - val_accuracy: 0.8052\n",
            "Epoch 14/100\n",
            "20/20 [==============================] - 0s 6ms/step - loss: 0.4620 - accuracy: 0.7687 - val_loss: 0.4769 - val_accuracy: 0.8052\n",
            "Epoch 15/100\n",
            "20/20 [==============================] - 0s 5ms/step - loss: 0.4595 - accuracy: 0.7687 - val_loss: 0.4761 - val_accuracy: 0.7922\n",
            "Epoch 16/100\n",
            "20/20 [==============================] - 0s 6ms/step - loss: 0.4577 - accuracy: 0.7769 - val_loss: 0.4749 - val_accuracy: 0.7922\n",
            "Epoch 17/100\n",
            "20/20 [==============================] - 0s 6ms/step - loss: 0.4558 - accuracy: 0.7704 - val_loss: 0.4755 - val_accuracy: 0.7922\n",
            "Epoch 18/100\n",
            "20/20 [==============================] - 0s 5ms/step - loss: 0.4541 - accuracy: 0.7785 - val_loss: 0.4745 - val_accuracy: 0.7922\n",
            "Epoch 19/100\n",
            "20/20 [==============================] - 0s 6ms/step - loss: 0.4534 - accuracy: 0.7752 - val_loss: 0.4749 - val_accuracy: 0.7922\n",
            "Epoch 20/100\n",
            "20/20 [==============================] - 0s 5ms/step - loss: 0.4519 - accuracy: 0.7752 - val_loss: 0.4744 - val_accuracy: 0.7987\n",
            "Epoch 21/100\n",
            "20/20 [==============================] - 0s 6ms/step - loss: 0.4510 - accuracy: 0.7769 - val_loss: 0.4753 - val_accuracy: 0.7987\n",
            "Epoch 22/100\n",
            "20/20 [==============================] - 0s 5ms/step - loss: 0.4506 - accuracy: 0.7785 - val_loss: 0.4751 - val_accuracy: 0.7987\n",
            "Epoch 23/100\n",
            "20/20 [==============================] - 0s 6ms/step - loss: 0.4491 - accuracy: 0.7752 - val_loss: 0.4752 - val_accuracy: 0.7987\n",
            "Epoch 24/100\n",
            "20/20 [==============================] - 0s 5ms/step - loss: 0.4488 - accuracy: 0.7785 - val_loss: 0.4748 - val_accuracy: 0.7987\n",
            "Epoch 25/100\n",
            "20/20 [==============================] - 0s 5ms/step - loss: 0.4482 - accuracy: 0.7769 - val_loss: 0.4745 - val_accuracy: 0.7987\n",
            "Epoch 26/100\n",
            "20/20 [==============================] - 0s 6ms/step - loss: 0.4476 - accuracy: 0.7769 - val_loss: 0.4744 - val_accuracy: 0.7987\n",
            "Epoch 27/100\n",
            "20/20 [==============================] - 0s 6ms/step - loss: 0.4467 - accuracy: 0.7801 - val_loss: 0.4752 - val_accuracy: 0.8052\n",
            "Epoch 28/100\n",
            "20/20 [==============================] - 0s 5ms/step - loss: 0.4462 - accuracy: 0.7785 - val_loss: 0.4759 - val_accuracy: 0.8052\n",
            "Epoch 29/100\n",
            "20/20 [==============================] - 0s 5ms/step - loss: 0.4461 - accuracy: 0.7801 - val_loss: 0.4756 - val_accuracy: 0.8052\n",
            "Epoch 30/100\n",
            "20/20 [==============================] - 0s 5ms/step - loss: 0.4451 - accuracy: 0.7801 - val_loss: 0.4754 - val_accuracy: 0.8052\n",
            "Epoch 31/100\n",
            "20/20 [==============================] - 0s 5ms/step - loss: 0.4448 - accuracy: 0.7785 - val_loss: 0.4747 - val_accuracy: 0.7987\n",
            "Epoch 32/100\n",
            "20/20 [==============================] - 0s 6ms/step - loss: 0.4445 - accuracy: 0.7801 - val_loss: 0.4757 - val_accuracy: 0.8052\n",
            "Epoch 33/100\n",
            "20/20 [==============================] - 0s 6ms/step - loss: 0.4434 - accuracy: 0.7785 - val_loss: 0.4758 - val_accuracy: 0.7987\n",
            "Epoch 34/100\n",
            "20/20 [==============================] - 0s 5ms/step - loss: 0.4432 - accuracy: 0.7818 - val_loss: 0.4764 - val_accuracy: 0.7987\n",
            "Epoch 35/100\n",
            "20/20 [==============================] - 0s 5ms/step - loss: 0.4422 - accuracy: 0.7801 - val_loss: 0.4760 - val_accuracy: 0.7987\n",
            "Epoch 36/100\n",
            "20/20 [==============================] - 0s 5ms/step - loss: 0.4421 - accuracy: 0.7818 - val_loss: 0.4757 - val_accuracy: 0.7987\n",
            "Epoch 37/100\n",
            "20/20 [==============================] - 0s 6ms/step - loss: 0.4418 - accuracy: 0.7818 - val_loss: 0.4763 - val_accuracy: 0.7922\n",
            "Epoch 38/100\n",
            "20/20 [==============================] - 0s 6ms/step - loss: 0.4411 - accuracy: 0.7850 - val_loss: 0.4757 - val_accuracy: 0.7922\n",
            "Epoch 39/100\n",
            "20/20 [==============================] - 0s 5ms/step - loss: 0.4407 - accuracy: 0.7834 - val_loss: 0.4747 - val_accuracy: 0.7987\n",
            "Epoch 40/100\n",
            "20/20 [==============================] - 0s 5ms/step - loss: 0.4406 - accuracy: 0.7834 - val_loss: 0.4729 - val_accuracy: 0.7792\n",
            "Epoch 41/100\n",
            "20/20 [==============================] - 0s 6ms/step - loss: 0.4399 - accuracy: 0.7769 - val_loss: 0.4738 - val_accuracy: 0.7987\n",
            "Epoch 42/100\n",
            "20/20 [==============================] - 0s 6ms/step - loss: 0.4393 - accuracy: 0.7834 - val_loss: 0.4738 - val_accuracy: 0.7857\n",
            "Epoch 43/100\n",
            "20/20 [==============================] - 0s 6ms/step - loss: 0.4393 - accuracy: 0.7834 - val_loss: 0.4743 - val_accuracy: 0.7922\n",
            "Epoch 44/100\n",
            "20/20 [==============================] - 0s 5ms/step - loss: 0.4385 - accuracy: 0.7834 - val_loss: 0.4741 - val_accuracy: 0.7922\n",
            "Epoch 45/100\n",
            "20/20 [==============================] - 0s 6ms/step - loss: 0.4383 - accuracy: 0.7866 - val_loss: 0.4745 - val_accuracy: 0.7922\n",
            "Epoch 46/100\n",
            "20/20 [==============================] - 0s 5ms/step - loss: 0.4381 - accuracy: 0.7818 - val_loss: 0.4741 - val_accuracy: 0.7922\n",
            "Epoch 47/100\n",
            "20/20 [==============================] - 0s 3ms/step - loss: 0.4379 - accuracy: 0.7850 - val_loss: 0.4737 - val_accuracy: 0.7922\n",
            "Epoch 48/100\n",
            "20/20 [==============================] - 0s 4ms/step - loss: 0.4371 - accuracy: 0.7834 - val_loss: 0.4734 - val_accuracy: 0.7922\n",
            "Epoch 49/100\n",
            "20/20 [==============================] - 0s 3ms/step - loss: 0.4371 - accuracy: 0.7785 - val_loss: 0.4731 - val_accuracy: 0.7987\n",
            "Epoch 50/100\n",
            "20/20 [==============================] - 0s 3ms/step - loss: 0.4366 - accuracy: 0.7866 - val_loss: 0.4736 - val_accuracy: 0.7987\n",
            "Epoch 51/100\n",
            "20/20 [==============================] - 0s 4ms/step - loss: 0.4364 - accuracy: 0.7818 - val_loss: 0.4732 - val_accuracy: 0.7987\n",
            "Epoch 52/100\n",
            "20/20 [==============================] - 0s 4ms/step - loss: 0.4362 - accuracy: 0.7850 - val_loss: 0.4724 - val_accuracy: 0.7987\n",
            "Epoch 53/100\n",
            "20/20 [==============================] - 0s 4ms/step - loss: 0.4354 - accuracy: 0.7834 - val_loss: 0.4724 - val_accuracy: 0.7987\n",
            "Epoch 54/100\n",
            "20/20 [==============================] - 0s 4ms/step - loss: 0.4351 - accuracy: 0.7834 - val_loss: 0.4725 - val_accuracy: 0.7987\n",
            "Epoch 55/100\n",
            "20/20 [==============================] - 0s 3ms/step - loss: 0.4349 - accuracy: 0.7834 - val_loss: 0.4728 - val_accuracy: 0.7987\n",
            "Epoch 56/100\n",
            "20/20 [==============================] - 0s 4ms/step - loss: 0.4348 - accuracy: 0.7834 - val_loss: 0.4726 - val_accuracy: 0.7987\n",
            "Epoch 57/100\n",
            "20/20 [==============================] - 0s 4ms/step - loss: 0.4341 - accuracy: 0.7866 - val_loss: 0.4725 - val_accuracy: 0.7987\n",
            "Epoch 58/100\n",
            "20/20 [==============================] - 0s 4ms/step - loss: 0.4341 - accuracy: 0.7834 - val_loss: 0.4721 - val_accuracy: 0.7987\n",
            "Epoch 59/100\n",
            "20/20 [==============================] - 0s 4ms/step - loss: 0.4332 - accuracy: 0.7866 - val_loss: 0.4710 - val_accuracy: 0.7987\n",
            "Epoch 60/100\n",
            "20/20 [==============================] - 0s 4ms/step - loss: 0.4330 - accuracy: 0.7818 - val_loss: 0.4718 - val_accuracy: 0.7987\n",
            "Epoch 61/100\n",
            "20/20 [==============================] - 0s 4ms/step - loss: 0.4326 - accuracy: 0.7834 - val_loss: 0.4723 - val_accuracy: 0.8052\n",
            "Epoch 62/100\n",
            "20/20 [==============================] - 0s 4ms/step - loss: 0.4322 - accuracy: 0.7834 - val_loss: 0.4724 - val_accuracy: 0.7987\n",
            "Epoch 63/100\n",
            "20/20 [==============================] - 0s 5ms/step - loss: 0.4315 - accuracy: 0.7850 - val_loss: 0.4724 - val_accuracy: 0.7987\n",
            "Epoch 64/100\n",
            "20/20 [==============================] - 0s 3ms/step - loss: 0.4316 - accuracy: 0.7866 - val_loss: 0.4721 - val_accuracy: 0.8052\n",
            "Epoch 65/100\n",
            "20/20 [==============================] - 0s 4ms/step - loss: 0.4311 - accuracy: 0.7850 - val_loss: 0.4726 - val_accuracy: 0.7922\n",
            "Epoch 66/100\n",
            "20/20 [==============================] - 0s 4ms/step - loss: 0.4309 - accuracy: 0.7834 - val_loss: 0.4725 - val_accuracy: 0.7987\n",
            "Epoch 67/100\n",
            "20/20 [==============================] - 0s 4ms/step - loss: 0.4305 - accuracy: 0.7866 - val_loss: 0.4722 - val_accuracy: 0.7987\n",
            "Epoch 68/100\n",
            "20/20 [==============================] - 0s 4ms/step - loss: 0.4299 - accuracy: 0.7915 - val_loss: 0.4710 - val_accuracy: 0.8052\n",
            "Epoch 69/100\n",
            "20/20 [==============================] - 0s 4ms/step - loss: 0.4299 - accuracy: 0.7866 - val_loss: 0.4709 - val_accuracy: 0.8052\n",
            "Epoch 70/100\n",
            "20/20 [==============================] - 0s 3ms/step - loss: 0.4296 - accuracy: 0.7866 - val_loss: 0.4693 - val_accuracy: 0.8052\n",
            "Epoch 71/100\n",
            "20/20 [==============================] - 0s 4ms/step - loss: 0.4291 - accuracy: 0.7866 - val_loss: 0.4700 - val_accuracy: 0.8052\n",
            "Epoch 72/100\n",
            "20/20 [==============================] - 0s 3ms/step - loss: 0.4288 - accuracy: 0.7850 - val_loss: 0.4700 - val_accuracy: 0.7987\n",
            "Epoch 73/100\n",
            "20/20 [==============================] - 0s 4ms/step - loss: 0.4289 - accuracy: 0.7850 - val_loss: 0.4711 - val_accuracy: 0.8052\n",
            "Epoch 74/100\n",
            "20/20 [==============================] - 0s 3ms/step - loss: 0.4283 - accuracy: 0.7850 - val_loss: 0.4702 - val_accuracy: 0.8052\n",
            "Epoch 75/100\n",
            "20/20 [==============================] - 0s 4ms/step - loss: 0.4279 - accuracy: 0.7883 - val_loss: 0.4700 - val_accuracy: 0.7987\n",
            "Epoch 76/100\n",
            "20/20 [==============================] - 0s 4ms/step - loss: 0.4277 - accuracy: 0.7899 - val_loss: 0.4694 - val_accuracy: 0.7987\n",
            "Epoch 77/100\n",
            "20/20 [==============================] - 0s 4ms/step - loss: 0.4273 - accuracy: 0.7866 - val_loss: 0.4693 - val_accuracy: 0.7987\n",
            "Epoch 78/100\n",
            "20/20 [==============================] - 0s 3ms/step - loss: 0.4272 - accuracy: 0.7866 - val_loss: 0.4694 - val_accuracy: 0.7987\n",
            "Epoch 79/100\n",
            "20/20 [==============================] - 0s 4ms/step - loss: 0.4268 - accuracy: 0.7932 - val_loss: 0.4698 - val_accuracy: 0.7987\n",
            "Epoch 80/100\n",
            "20/20 [==============================] - 0s 4ms/step - loss: 0.4262 - accuracy: 0.7866 - val_loss: 0.4708 - val_accuracy: 0.7987\n",
            "Epoch 81/100\n",
            "20/20 [==============================] - 0s 3ms/step - loss: 0.4256 - accuracy: 0.7850 - val_loss: 0.4706 - val_accuracy: 0.7987\n",
            "Epoch 82/100\n",
            "20/20 [==============================] - 0s 4ms/step - loss: 0.4256 - accuracy: 0.7866 - val_loss: 0.4704 - val_accuracy: 0.8052\n",
            "Epoch 83/100\n",
            "20/20 [==============================] - 0s 3ms/step - loss: 0.4252 - accuracy: 0.7834 - val_loss: 0.4706 - val_accuracy: 0.7987\n",
            "Epoch 84/100\n",
            "20/20 [==============================] - 0s 4ms/step - loss: 0.4250 - accuracy: 0.7866 - val_loss: 0.4703 - val_accuracy: 0.8052\n",
            "Epoch 85/100\n",
            "20/20 [==============================] - 0s 4ms/step - loss: 0.4249 - accuracy: 0.7915 - val_loss: 0.4710 - val_accuracy: 0.8052\n",
            "Epoch 86/100\n",
            "20/20 [==============================] - 0s 4ms/step - loss: 0.4248 - accuracy: 0.7850 - val_loss: 0.4711 - val_accuracy: 0.8052\n",
            "Epoch 87/100\n",
            "20/20 [==============================] - 0s 4ms/step - loss: 0.4241 - accuracy: 0.7899 - val_loss: 0.4704 - val_accuracy: 0.8052\n",
            "Epoch 88/100\n",
            "20/20 [==============================] - 0s 3ms/step - loss: 0.4239 - accuracy: 0.7883 - val_loss: 0.4705 - val_accuracy: 0.8052\n",
            "Epoch 89/100\n",
            "20/20 [==============================] - 0s 4ms/step - loss: 0.4236 - accuracy: 0.7932 - val_loss: 0.4703 - val_accuracy: 0.8052\n",
            "Epoch 90/100\n",
            "20/20 [==============================] - 0s 4ms/step - loss: 0.4235 - accuracy: 0.7932 - val_loss: 0.4715 - val_accuracy: 0.8052\n",
            "Epoch 91/100\n",
            "20/20 [==============================] - 0s 4ms/step - loss: 0.4231 - accuracy: 0.7964 - val_loss: 0.4704 - val_accuracy: 0.7987\n",
            "Epoch 92/100\n",
            "20/20 [==============================] - 0s 4ms/step - loss: 0.4232 - accuracy: 0.7980 - val_loss: 0.4714 - val_accuracy: 0.7987\n",
            "Epoch 93/100\n",
            "20/20 [==============================] - 0s 3ms/step - loss: 0.4223 - accuracy: 0.7932 - val_loss: 0.4703 - val_accuracy: 0.8052\n",
            "Epoch 94/100\n",
            "20/20 [==============================] - 0s 4ms/step - loss: 0.4219 - accuracy: 0.7964 - val_loss: 0.4699 - val_accuracy: 0.8052\n",
            "Epoch 95/100\n",
            "20/20 [==============================] - 0s 3ms/step - loss: 0.4221 - accuracy: 0.7899 - val_loss: 0.4704 - val_accuracy: 0.8052\n",
            "Epoch 96/100\n",
            "20/20 [==============================] - 0s 3ms/step - loss: 0.4217 - accuracy: 0.7964 - val_loss: 0.4705 - val_accuracy: 0.8052\n",
            "Epoch 97/100\n",
            "20/20 [==============================] - 0s 4ms/step - loss: 0.4218 - accuracy: 0.7915 - val_loss: 0.4700 - val_accuracy: 0.8052\n",
            "Epoch 98/100\n",
            "20/20 [==============================] - 0s 3ms/step - loss: 0.4212 - accuracy: 0.7915 - val_loss: 0.4710 - val_accuracy: 0.8052\n",
            "Epoch 99/100\n",
            "20/20 [==============================] - 0s 3ms/step - loss: 0.4214 - accuracy: 0.7932 - val_loss: 0.4708 - val_accuracy: 0.8117\n",
            "Epoch 100/100\n",
            "20/20 [==============================] - 0s 4ms/step - loss: 0.4210 - accuracy: 0.7948 - val_loss: 0.4709 - val_accuracy: 0.8052\n"
          ]
        },
        {
          "output_type": "execute_result",
          "data": {
            "text/plain": [
              "<keras.src.callbacks.History at 0x781308207400>"
            ]
          },
          "metadata": {},
          "execution_count": 69
        }
      ]
    },
    {
      "cell_type": "markdown",
      "source": [
        "Finding the right number of neurons"
      ],
      "metadata": {
        "id": "9O0GhQkvwAin"
      }
    },
    {
      "cell_type": "code",
      "source": [
        "def build_model(hp):\n",
        "  model=Sequential()\n",
        "  units= hp.Int('units',min_value=8,max_value=128,step=8)\n",
        "  # It will build multiple models starting from 8 neurons\n",
        "  # And it will increase by a count of 8 in each new model\n",
        "  model.add(Dense(units=units,activation='relu',input_dim=8))\n",
        "  model.add(Dense(1,activation='sigmoid'))\n",
        "\n",
        "  model.compile(optimizer='adam',loss='binary_crossentropy',metrics=['accuracy'])\n",
        "\n",
        "  return model"
      ],
      "metadata": {
        "id": "MGcCU3ozwGpA"
      },
      "execution_count": 70,
      "outputs": []
    },
    {
      "cell_type": "code",
      "source": [
        "tuner = kt.RandomSearch(build_model,\n",
        "                        objective='val_accuracy'\n",
        "                        ,max_trials=5\n",
        "                        ,directory='mydir')\n",
        "\n",
        "# creating an object of the build_model class"
      ],
      "metadata": {
        "colab": {
          "base_uri": "https://localhost:8080/"
        },
        "id": "8YBdouJKw2Tr",
        "outputId": "0a036975-b77e-4082-a03c-d7c8a680c201"
      },
      "execution_count": 71,
      "outputs": [
        {
          "output_type": "stream",
          "name": "stdout",
          "text": [
            "Reloading Tuner from mydir/untitled_project/tuner0.json\n"
          ]
        }
      ]
    },
    {
      "cell_type": "code",
      "source": [
        "tuner.search(X_train,y_train,epochs=5,validation_data=(X_test,y_test))"
      ],
      "metadata": {
        "id": "S7VRvZsGx2wC"
      },
      "execution_count": 72,
      "outputs": []
    },
    {
      "cell_type": "code",
      "source": [
        "tuner.get_best_hyperparameters()[0].values"
      ],
      "metadata": {
        "colab": {
          "base_uri": "https://localhost:8080/"
        },
        "id": "FoZhYzhDyQJk",
        "outputId": "90a21e53-024c-4148-a8d3-6a9c57736086"
      },
      "execution_count": 73,
      "outputs": [
        {
          "output_type": "execute_result",
          "data": {
            "text/plain": [
              "{'units': 72}"
            ]
          },
          "metadata": {},
          "execution_count": 73
        }
      ]
    },
    {
      "cell_type": "code",
      "source": [
        " model=tuner.get_best_models(num_models=1)[0]"
      ],
      "metadata": {
        "id": "g-PqUAor3WHR"
      },
      "execution_count": 74,
      "outputs": []
    },
    {
      "cell_type": "code",
      "source": [
        "model.fit(X_train,y_train,epochs=100,batch_size=32,initial_epoch=6)"
      ],
      "metadata": {
        "colab": {
          "base_uri": "https://localhost:8080/"
        },
        "id": "sJeXmdvZ4JfA",
        "outputId": "4a789364-e3fd-4acb-c860-9735699f4903"
      },
      "execution_count": 75,
      "outputs": [
        {
          "output_type": "stream",
          "name": "stdout",
          "text": [
            "Epoch 7/100\n",
            "20/20 [==============================] - 1s 2ms/step - loss: 0.5370 - accuracy: 0.7280\n",
            "Epoch 8/100\n",
            "20/20 [==============================] - 0s 2ms/step - loss: 0.5106 - accuracy: 0.7427\n",
            "Epoch 9/100\n",
            "20/20 [==============================] - 0s 2ms/step - loss: 0.4944 - accuracy: 0.7557\n",
            "Epoch 10/100\n",
            "20/20 [==============================] - 0s 2ms/step - loss: 0.4821 - accuracy: 0.7655\n",
            "Epoch 11/100\n",
            "20/20 [==============================] - 0s 2ms/step - loss: 0.4732 - accuracy: 0.7687\n",
            "Epoch 12/100\n",
            "20/20 [==============================] - 0s 2ms/step - loss: 0.4679 - accuracy: 0.7704\n",
            "Epoch 13/100\n",
            "20/20 [==============================] - 0s 2ms/step - loss: 0.4633 - accuracy: 0.7752\n",
            "Epoch 14/100\n",
            "20/20 [==============================] - 0s 2ms/step - loss: 0.4596 - accuracy: 0.7752\n",
            "Epoch 15/100\n",
            "20/20 [==============================] - 0s 2ms/step - loss: 0.4578 - accuracy: 0.7769\n",
            "Epoch 16/100\n",
            "20/20 [==============================] - 0s 2ms/step - loss: 0.4551 - accuracy: 0.7785\n",
            "Epoch 17/100\n",
            "20/20 [==============================] - 0s 2ms/step - loss: 0.4530 - accuracy: 0.7801\n",
            "Epoch 18/100\n",
            "20/20 [==============================] - 0s 2ms/step - loss: 0.4513 - accuracy: 0.7752\n",
            "Epoch 19/100\n",
            "20/20 [==============================] - 0s 2ms/step - loss: 0.4504 - accuracy: 0.7752\n",
            "Epoch 20/100\n",
            "20/20 [==============================] - 0s 2ms/step - loss: 0.4484 - accuracy: 0.7752\n",
            "Epoch 21/100\n",
            "20/20 [==============================] - 0s 2ms/step - loss: 0.4469 - accuracy: 0.7769\n",
            "Epoch 22/100\n",
            "20/20 [==============================] - 0s 2ms/step - loss: 0.4458 - accuracy: 0.7720\n",
            "Epoch 23/100\n",
            "20/20 [==============================] - 0s 2ms/step - loss: 0.4448 - accuracy: 0.7752\n",
            "Epoch 24/100\n",
            "20/20 [==============================] - 0s 3ms/step - loss: 0.4440 - accuracy: 0.7720\n",
            "Epoch 25/100\n",
            "20/20 [==============================] - 0s 2ms/step - loss: 0.4428 - accuracy: 0.7720\n",
            "Epoch 26/100\n",
            "20/20 [==============================] - 0s 2ms/step - loss: 0.4420 - accuracy: 0.7720\n",
            "Epoch 27/100\n",
            "20/20 [==============================] - 0s 2ms/step - loss: 0.4413 - accuracy: 0.7736\n",
            "Epoch 28/100\n",
            "20/20 [==============================] - 0s 2ms/step - loss: 0.4397 - accuracy: 0.7720\n",
            "Epoch 29/100\n",
            "20/20 [==============================] - 0s 2ms/step - loss: 0.4391 - accuracy: 0.7769\n",
            "Epoch 30/100\n",
            "20/20 [==============================] - 0s 2ms/step - loss: 0.4389 - accuracy: 0.7785\n",
            "Epoch 31/100\n",
            "20/20 [==============================] - 0s 2ms/step - loss: 0.4376 - accuracy: 0.7801\n",
            "Epoch 32/100\n",
            "20/20 [==============================] - 0s 2ms/step - loss: 0.4370 - accuracy: 0.7801\n",
            "Epoch 33/100\n",
            "20/20 [==============================] - 0s 2ms/step - loss: 0.4355 - accuracy: 0.7785\n",
            "Epoch 34/100\n",
            "20/20 [==============================] - 0s 2ms/step - loss: 0.4355 - accuracy: 0.7834\n",
            "Epoch 35/100\n",
            "20/20 [==============================] - 0s 2ms/step - loss: 0.4340 - accuracy: 0.7899\n",
            "Epoch 36/100\n",
            "20/20 [==============================] - 0s 2ms/step - loss: 0.4337 - accuracy: 0.7866\n",
            "Epoch 37/100\n",
            "20/20 [==============================] - 0s 2ms/step - loss: 0.4327 - accuracy: 0.7883\n",
            "Epoch 38/100\n",
            "20/20 [==============================] - 0s 2ms/step - loss: 0.4318 - accuracy: 0.7866\n",
            "Epoch 39/100\n",
            "20/20 [==============================] - 0s 2ms/step - loss: 0.4309 - accuracy: 0.7850\n",
            "Epoch 40/100\n",
            "20/20 [==============================] - 0s 2ms/step - loss: 0.4304 - accuracy: 0.7850\n",
            "Epoch 41/100\n",
            "20/20 [==============================] - 0s 2ms/step - loss: 0.4304 - accuracy: 0.7850\n",
            "Epoch 42/100\n",
            "20/20 [==============================] - 0s 2ms/step - loss: 0.4299 - accuracy: 0.7850\n",
            "Epoch 43/100\n",
            "20/20 [==============================] - 0s 2ms/step - loss: 0.4289 - accuracy: 0.7883\n",
            "Epoch 44/100\n",
            "20/20 [==============================] - 0s 2ms/step - loss: 0.4286 - accuracy: 0.7883\n",
            "Epoch 45/100\n",
            "20/20 [==============================] - 0s 3ms/step - loss: 0.4274 - accuracy: 0.7899\n",
            "Epoch 46/100\n",
            "20/20 [==============================] - 0s 2ms/step - loss: 0.4266 - accuracy: 0.7866\n",
            "Epoch 47/100\n",
            "20/20 [==============================] - 0s 2ms/step - loss: 0.4252 - accuracy: 0.7850\n",
            "Epoch 48/100\n",
            "20/20 [==============================] - 0s 2ms/step - loss: 0.4254 - accuracy: 0.7915\n",
            "Epoch 49/100\n",
            "20/20 [==============================] - 0s 2ms/step - loss: 0.4245 - accuracy: 0.7850\n",
            "Epoch 50/100\n",
            "20/20 [==============================] - 0s 2ms/step - loss: 0.4236 - accuracy: 0.7883\n",
            "Epoch 51/100\n",
            "20/20 [==============================] - 0s 2ms/step - loss: 0.4235 - accuracy: 0.7883\n",
            "Epoch 52/100\n",
            "20/20 [==============================] - 0s 2ms/step - loss: 0.4228 - accuracy: 0.7932\n",
            "Epoch 53/100\n",
            "20/20 [==============================] - 0s 2ms/step - loss: 0.4219 - accuracy: 0.7964\n",
            "Epoch 54/100\n",
            "20/20 [==============================] - 0s 2ms/step - loss: 0.4218 - accuracy: 0.7899\n",
            "Epoch 55/100\n",
            "20/20 [==============================] - 0s 2ms/step - loss: 0.4210 - accuracy: 0.7915\n",
            "Epoch 56/100\n",
            "20/20 [==============================] - 0s 2ms/step - loss: 0.4205 - accuracy: 0.7980\n",
            "Epoch 57/100\n",
            "20/20 [==============================] - 0s 2ms/step - loss: 0.4195 - accuracy: 0.7964\n",
            "Epoch 58/100\n",
            "20/20 [==============================] - 0s 2ms/step - loss: 0.4204 - accuracy: 0.7948\n",
            "Epoch 59/100\n",
            "20/20 [==============================] - 0s 2ms/step - loss: 0.4181 - accuracy: 0.8029\n",
            "Epoch 60/100\n",
            "20/20 [==============================] - 0s 2ms/step - loss: 0.4186 - accuracy: 0.8013\n",
            "Epoch 61/100\n",
            "20/20 [==============================] - 0s 2ms/step - loss: 0.4173 - accuracy: 0.8013\n",
            "Epoch 62/100\n",
            "20/20 [==============================] - 0s 2ms/step - loss: 0.4175 - accuracy: 0.8013\n",
            "Epoch 63/100\n",
            "20/20 [==============================] - 0s 2ms/step - loss: 0.4161 - accuracy: 0.8013\n",
            "Epoch 64/100\n",
            "20/20 [==============================] - 0s 2ms/step - loss: 0.4156 - accuracy: 0.7980\n",
            "Epoch 65/100\n",
            "20/20 [==============================] - 0s 2ms/step - loss: 0.4159 - accuracy: 0.8013\n",
            "Epoch 66/100\n",
            "20/20 [==============================] - 0s 3ms/step - loss: 0.4148 - accuracy: 0.8013\n",
            "Epoch 67/100\n",
            "20/20 [==============================] - 0s 2ms/step - loss: 0.4139 - accuracy: 0.8062\n",
            "Epoch 68/100\n",
            "20/20 [==============================] - 0s 2ms/step - loss: 0.4133 - accuracy: 0.8078\n",
            "Epoch 69/100\n",
            "20/20 [==============================] - 0s 2ms/step - loss: 0.4156 - accuracy: 0.8046\n",
            "Epoch 70/100\n",
            "20/20 [==============================] - 0s 2ms/step - loss: 0.4134 - accuracy: 0.8078\n",
            "Epoch 71/100\n",
            "20/20 [==============================] - 0s 2ms/step - loss: 0.4120 - accuracy: 0.8111\n",
            "Epoch 72/100\n",
            "20/20 [==============================] - 0s 2ms/step - loss: 0.4110 - accuracy: 0.8160\n",
            "Epoch 73/100\n",
            "20/20 [==============================] - 0s 4ms/step - loss: 0.4105 - accuracy: 0.8094\n",
            "Epoch 74/100\n",
            "20/20 [==============================] - 0s 3ms/step - loss: 0.4098 - accuracy: 0.8160\n",
            "Epoch 75/100\n",
            "20/20 [==============================] - 0s 3ms/step - loss: 0.4100 - accuracy: 0.8127\n",
            "Epoch 76/100\n",
            "20/20 [==============================] - 0s 4ms/step - loss: 0.4095 - accuracy: 0.8111\n",
            "Epoch 77/100\n",
            "20/20 [==============================] - 0s 3ms/step - loss: 0.4086 - accuracy: 0.8176\n",
            "Epoch 78/100\n",
            "20/20 [==============================] - 0s 3ms/step - loss: 0.4080 - accuracy: 0.8143\n",
            "Epoch 79/100\n",
            "20/20 [==============================] - 0s 3ms/step - loss: 0.4075 - accuracy: 0.8160\n",
            "Epoch 80/100\n",
            "20/20 [==============================] - 0s 3ms/step - loss: 0.4074 - accuracy: 0.8143\n",
            "Epoch 81/100\n",
            "20/20 [==============================] - 0s 3ms/step - loss: 0.4076 - accuracy: 0.8111\n",
            "Epoch 82/100\n",
            "20/20 [==============================] - 0s 3ms/step - loss: 0.4069 - accuracy: 0.8160\n",
            "Epoch 83/100\n",
            "20/20 [==============================] - 0s 3ms/step - loss: 0.4050 - accuracy: 0.8192\n",
            "Epoch 84/100\n",
            "20/20 [==============================] - 0s 3ms/step - loss: 0.4056 - accuracy: 0.8241\n",
            "Epoch 85/100\n",
            "20/20 [==============================] - 0s 3ms/step - loss: 0.4046 - accuracy: 0.8160\n",
            "Epoch 86/100\n",
            "20/20 [==============================] - 0s 3ms/step - loss: 0.4055 - accuracy: 0.8176\n",
            "Epoch 87/100\n",
            "20/20 [==============================] - 0s 2ms/step - loss: 0.4048 - accuracy: 0.8160\n",
            "Epoch 88/100\n",
            "20/20 [==============================] - 0s 2ms/step - loss: 0.4037 - accuracy: 0.8192\n",
            "Epoch 89/100\n",
            "20/20 [==============================] - 0s 2ms/step - loss: 0.4028 - accuracy: 0.8208\n",
            "Epoch 90/100\n",
            "20/20 [==============================] - 0s 3ms/step - loss: 0.4025 - accuracy: 0.8225\n",
            "Epoch 91/100\n",
            "20/20 [==============================] - 0s 3ms/step - loss: 0.4021 - accuracy: 0.8208\n",
            "Epoch 92/100\n",
            "20/20 [==============================] - 0s 3ms/step - loss: 0.4011 - accuracy: 0.8192\n",
            "Epoch 93/100\n",
            "20/20 [==============================] - 0s 3ms/step - loss: 0.4017 - accuracy: 0.8176\n",
            "Epoch 94/100\n",
            "20/20 [==============================] - 0s 3ms/step - loss: 0.4013 - accuracy: 0.8241\n",
            "Epoch 95/100\n",
            "20/20 [==============================] - 0s 3ms/step - loss: 0.3999 - accuracy: 0.8306\n",
            "Epoch 96/100\n",
            "20/20 [==============================] - 0s 4ms/step - loss: 0.3999 - accuracy: 0.8257\n",
            "Epoch 97/100\n",
            "20/20 [==============================] - 0s 3ms/step - loss: 0.3988 - accuracy: 0.8290\n",
            "Epoch 98/100\n",
            "20/20 [==============================] - 0s 3ms/step - loss: 0.3987 - accuracy: 0.8143\n",
            "Epoch 99/100\n",
            "20/20 [==============================] - 0s 3ms/step - loss: 0.3983 - accuracy: 0.8176\n",
            "Epoch 100/100\n",
            "20/20 [==============================] - 0s 3ms/step - loss: 0.3977 - accuracy: 0.8192\n"
          ]
        },
        {
          "output_type": "execute_result",
          "data": {
            "text/plain": [
              "<keras.src.callbacks.History at 0x7812fb6d4a00>"
            ]
          },
          "metadata": {},
          "execution_count": 75
        }
      ]
    },
    {
      "cell_type": "markdown",
      "source": [
        "Tuning number of Hidden Layers"
      ],
      "metadata": {
        "id": "lPs4rkwXYpSh"
      }
    },
    {
      "cell_type": "code",
      "source": [
        "def build_models(hp):\n",
        "  model=Sequential()\n",
        "\n",
        "  model.add(Dense(72,activation='relu',input_dim=8))\n",
        "  #we add a layer before to reduce complexity regarding input dimernsion\n",
        "\n",
        "  for i in range(hp.Int('num_layers'),min_value=1,max_value=10):\n",
        "\n",
        "    model.add(Dense(72,activation='relu'))\n",
        "\n",
        "\n",
        "  model.add(Dense(1,activation='sigmoid'))\n",
        "\n",
        "  model.compile(optimizer='adam',loss='bianry_crossentropy',metrics=['accuracy'])\n",
        "\n",
        "  return model\n"
      ],
      "metadata": {
        "id": "2ir0ACzvFVjM"
      },
      "execution_count": 88,
      "outputs": []
    },
    {
      "cell_type": "code",
      "source": [
        "tunerr=kt.RandomSearch(build_models,\n",
        "                      objective='val_accuracy',\n",
        "                      max_trials=3,\n",
        "                      directory='mydir')"
      ],
      "metadata": {
        "colab": {
          "base_uri": "https://localhost:8080/"
        },
        "id": "YDDvC52yZ_Iv",
        "outputId": "eac65fa7-8992-478c-ef1c-28dbf1adfc5e"
      },
      "execution_count": 89,
      "outputs": [
        {
          "output_type": "stream",
          "name": "stdout",
          "text": [
            "Reloading Tuner from mydir/untitled_project/tuner0.json\n"
          ]
        }
      ]
    },
    {
      "cell_type": "code",
      "source": [
        "tunerr.search(X_train,y_train,epochs=5,validation_data=(X_test,y_test))"
      ],
      "metadata": {
        "id": "M9KNB4LFaOCO"
      },
      "execution_count": 90,
      "outputs": []
    },
    {
      "cell_type": "code",
      "source": [
        "tunerr.get_best_hyperparameters()[0].values"
      ],
      "metadata": {
        "colab": {
          "base_uri": "https://localhost:8080/"
        },
        "id": "MLP_FXpqaaLy",
        "outputId": "a9f8a7d4-4145-4294-80a4-dee47855e7b3"
      },
      "execution_count": 87,
      "outputs": [
        {
          "output_type": "execute_result",
          "data": {
            "text/plain": [
              "{'units': 72}"
            ]
          },
          "metadata": {},
          "execution_count": 87
        }
      ]
    },
    {
      "cell_type": "markdown",
      "source": [
        "Tuning no of layers together with neurons\n"
      ],
      "metadata": {
        "id": "pEGXdzfYgTsJ"
      }
    },
    {
      "cell_type": "code",
      "source": [
        "def build_model(hp):\n",
        "  model=Sequential()\n",
        "  counter=0\n",
        "  #units=hp.Int('')\n",
        "  for i in range(hp.Int('num_layers',min_value=1,max_value=10)):\n",
        "    if counter==0:\n",
        "      model.add(\n",
        "          Dense(\n",
        "                hp.Int('units'+ str(i),min_value=8,max_value=128,step=8),\n",
        "                activation=hp.Choice('activation' + str(i),values=['relu','tanh','sigmoid']), #we have to change the string name in each loop acc to keras\n",
        "                input_dim=8\n",
        "                )\n",
        "          )\n",
        "      model.add(Dropout(hp.Choice('dropout'+str(i),values=[0.1,0.2,0.3,0.4,0.5,0.6,0.7,0.8,0.9]))) #we have to change the string name in each loop acc to keras\n",
        "    else:\n",
        "      model.add(\n",
        "        Dense(\n",
        "              hp.Int('units'+ str(i),min_value=8,max_value=128,step=8),\n",
        "              activation=hp.Choice('activation' + str(i),values=['relu','tanh','sigmoid'])\n",
        "              )\n",
        "        )\n",
        "      model.add(Dropout(hp.Choice('dropout'+str(i),values=[0.1,0.2,0.3,0.4,0.5,0.6,0.7,0.8,0.9]))) #we have to change the string name in each loop acc to keras\n",
        "    counter+=1\n",
        "  model.add(Dense(1,activation='sigmoid'))\n",
        "\n",
        "  model.compile(optimizer=hp.Choice('optimizer',values=['adam','rmsprop','sgd','nadam','adadelta']),\n",
        "                    loss='binary_crossentropy',\n",
        "                    metrics=['accuracy'])\n",
        "  return model\n"
      ],
      "metadata": {
        "id": "42jTP_lcgb7K"
      },
      "execution_count": 113,
      "outputs": []
    },
    {
      "cell_type": "code",
      "source": [
        "tuner=kt.RandomSearch(build_model,\n",
        "                      objective='val_accuracy',\n",
        "                      max_trials=3,\n",
        "                      directory='mydir',\n",
        "                      project_name='final1')"
      ],
      "metadata": {
        "id": "kUlypcgUiYwV"
      },
      "execution_count": 114,
      "outputs": []
    },
    {
      "cell_type": "code",
      "source": [
        "tuner.search(X_train,y_train,epochs=5,validation_data=(X_test,y_test))"
      ],
      "metadata": {
        "colab": {
          "base_uri": "https://localhost:8080/"
        },
        "id": "Gq64O2tNi7g6",
        "outputId": "dd96bb87-df25-4f0b-b7b0-7278750fc53e"
      },
      "execution_count": 115,
      "outputs": [
        {
          "output_type": "stream",
          "name": "stdout",
          "text": [
            "Trial 3 Complete [00h 00m 02s]\n",
            "val_accuracy: 0.6168830990791321\n",
            "\n",
            "Best val_accuracy So Far: 0.6428571343421936\n",
            "Total elapsed time: 00h 00m 09s\n"
          ]
        }
      ]
    },
    {
      "cell_type": "code",
      "source": [
        "tuner.get_best_hyperparameters()[0].values"
      ],
      "metadata": {
        "colab": {
          "base_uri": "https://localhost:8080/"
        },
        "id": "6pOgGQlWjiC1",
        "outputId": "1b59ebb1-fdc3-46cc-fecc-745b516b43f5"
      },
      "execution_count": 116,
      "outputs": [
        {
          "output_type": "execute_result",
          "data": {
            "text/plain": [
              "{'num_layers': 5,\n",
              " 'units0': 88,\n",
              " 'activation0': 'sigmoid',\n",
              " 'dropout0': 0.2,\n",
              " 'optimizer': 'sgd',\n",
              " 'units1': 8,\n",
              " 'activation1': 'relu',\n",
              " 'dropout1': 0.1,\n",
              " 'units2': 8,\n",
              " 'activation2': 'relu',\n",
              " 'dropout2': 0.1,\n",
              " 'units3': 8,\n",
              " 'activation3': 'relu',\n",
              " 'dropout3': 0.1,\n",
              " 'units4': 8,\n",
              " 'activation4': 'relu',\n",
              " 'dropout4': 0.1}"
            ]
          },
          "metadata": {},
          "execution_count": 116
        }
      ]
    },
    {
      "cell_type": "code",
      "source": [
        "model=tuner.get_best_models(num_models=1)[0]"
      ],
      "metadata": {
        "id": "mqraAQMGjpbs"
      },
      "execution_count": 117,
      "outputs": []
    },
    {
      "cell_type": "code",
      "source": [
        "model.fit(X_train,y_train,epochs=200,initial_epoch=6,validation_data=(X_test,y_test))"
      ],
      "metadata": {
        "colab": {
          "base_uri": "https://localhost:8080/"
        },
        "id": "7fLN4bSdjyVA",
        "outputId": "117590af-615e-4185-ae27-d1457135b2a8"
      },
      "execution_count": 118,
      "outputs": [
        {
          "output_type": "stream",
          "name": "stdout",
          "text": [
            "Epoch 7/200\n",
            "20/20 [==============================] - 1s 14ms/step - loss: 0.6779 - accuracy: 0.6303 - val_loss: 0.6766 - val_accuracy: 0.6429\n",
            "Epoch 8/200\n",
            "20/20 [==============================] - 0s 4ms/step - loss: 0.6698 - accuracy: 0.6482 - val_loss: 0.6718 - val_accuracy: 0.6429\n",
            "Epoch 9/200\n",
            "20/20 [==============================] - 0s 4ms/step - loss: 0.6695 - accuracy: 0.6515 - val_loss: 0.6679 - val_accuracy: 0.6429\n",
            "Epoch 10/200\n",
            "20/20 [==============================] - 0s 4ms/step - loss: 0.6668 - accuracy: 0.6531 - val_loss: 0.6651 - val_accuracy: 0.6429\n",
            "Epoch 11/200\n",
            "20/20 [==============================] - 0s 4ms/step - loss: 0.6652 - accuracy: 0.6531 - val_loss: 0.6632 - val_accuracy: 0.6429\n",
            "Epoch 12/200\n",
            "20/20 [==============================] - 0s 4ms/step - loss: 0.6600 - accuracy: 0.6531 - val_loss: 0.6607 - val_accuracy: 0.6429\n",
            "Epoch 13/200\n",
            "20/20 [==============================] - 0s 4ms/step - loss: 0.6598 - accuracy: 0.6531 - val_loss: 0.6588 - val_accuracy: 0.6429\n",
            "Epoch 14/200\n",
            "20/20 [==============================] - 0s 5ms/step - loss: 0.6560 - accuracy: 0.6531 - val_loss: 0.6573 - val_accuracy: 0.6429\n",
            "Epoch 15/200\n",
            "20/20 [==============================] - 0s 5ms/step - loss: 0.6531 - accuracy: 0.6531 - val_loss: 0.6554 - val_accuracy: 0.6429\n",
            "Epoch 16/200\n",
            "20/20 [==============================] - 0s 5ms/step - loss: 0.6535 - accuracy: 0.6531 - val_loss: 0.6540 - val_accuracy: 0.6429\n",
            "Epoch 17/200\n",
            "20/20 [==============================] - 0s 5ms/step - loss: 0.6570 - accuracy: 0.6531 - val_loss: 0.6530 - val_accuracy: 0.6429\n",
            "Epoch 18/200\n",
            "20/20 [==============================] - 0s 5ms/step - loss: 0.6582 - accuracy: 0.6531 - val_loss: 0.6526 - val_accuracy: 0.6429\n",
            "Epoch 19/200\n",
            "20/20 [==============================] - 0s 4ms/step - loss: 0.6530 - accuracy: 0.6531 - val_loss: 0.6518 - val_accuracy: 0.6429\n",
            "Epoch 20/200\n",
            "20/20 [==============================] - 0s 4ms/step - loss: 0.6475 - accuracy: 0.6531 - val_loss: 0.6510 - val_accuracy: 0.6429\n",
            "Epoch 21/200\n",
            "20/20 [==============================] - 0s 5ms/step - loss: 0.6453 - accuracy: 0.6531 - val_loss: 0.6504 - val_accuracy: 0.6429\n",
            "Epoch 22/200\n",
            "20/20 [==============================] - 0s 4ms/step - loss: 0.6507 - accuracy: 0.6531 - val_loss: 0.6500 - val_accuracy: 0.6429\n",
            "Epoch 23/200\n",
            "20/20 [==============================] - 0s 5ms/step - loss: 0.6517 - accuracy: 0.6531 - val_loss: 0.6498 - val_accuracy: 0.6429\n",
            "Epoch 24/200\n",
            "20/20 [==============================] - 0s 4ms/step - loss: 0.6490 - accuracy: 0.6531 - val_loss: 0.6496 - val_accuracy: 0.6429\n",
            "Epoch 25/200\n",
            "20/20 [==============================] - 0s 4ms/step - loss: 0.6514 - accuracy: 0.6531 - val_loss: 0.6495 - val_accuracy: 0.6429\n",
            "Epoch 26/200\n",
            "20/20 [==============================] - 0s 5ms/step - loss: 0.6482 - accuracy: 0.6531 - val_loss: 0.6494 - val_accuracy: 0.6429\n",
            "Epoch 27/200\n",
            "20/20 [==============================] - 0s 5ms/step - loss: 0.6508 - accuracy: 0.6531 - val_loss: 0.6490 - val_accuracy: 0.6429\n",
            "Epoch 28/200\n",
            "20/20 [==============================] - 0s 5ms/step - loss: 0.6471 - accuracy: 0.6531 - val_loss: 0.6489 - val_accuracy: 0.6429\n",
            "Epoch 29/200\n",
            "20/20 [==============================] - 0s 4ms/step - loss: 0.6477 - accuracy: 0.6531 - val_loss: 0.6486 - val_accuracy: 0.6429\n",
            "Epoch 30/200\n",
            "20/20 [==============================] - 0s 4ms/step - loss: 0.6496 - accuracy: 0.6531 - val_loss: 0.6486 - val_accuracy: 0.6429\n",
            "Epoch 31/200\n",
            "20/20 [==============================] - 0s 4ms/step - loss: 0.6500 - accuracy: 0.6531 - val_loss: 0.6484 - val_accuracy: 0.6429\n",
            "Epoch 32/200\n",
            "20/20 [==============================] - 0s 4ms/step - loss: 0.6476 - accuracy: 0.6531 - val_loss: 0.6482 - val_accuracy: 0.6429\n",
            "Epoch 33/200\n",
            "20/20 [==============================] - 0s 4ms/step - loss: 0.6477 - accuracy: 0.6531 - val_loss: 0.6480 - val_accuracy: 0.6429\n",
            "Epoch 34/200\n",
            "20/20 [==============================] - 0s 7ms/step - loss: 0.6390 - accuracy: 0.6531 - val_loss: 0.6477 - val_accuracy: 0.6429\n",
            "Epoch 35/200\n",
            "20/20 [==============================] - 0s 6ms/step - loss: 0.6496 - accuracy: 0.6531 - val_loss: 0.6477 - val_accuracy: 0.6429\n",
            "Epoch 36/200\n",
            "20/20 [==============================] - 0s 6ms/step - loss: 0.6501 - accuracy: 0.6531 - val_loss: 0.6475 - val_accuracy: 0.6429\n",
            "Epoch 37/200\n",
            "20/20 [==============================] - 0s 7ms/step - loss: 0.6477 - accuracy: 0.6531 - val_loss: 0.6473 - val_accuracy: 0.6429\n",
            "Epoch 38/200\n",
            "20/20 [==============================] - 0s 7ms/step - loss: 0.6484 - accuracy: 0.6531 - val_loss: 0.6470 - val_accuracy: 0.6429\n",
            "Epoch 39/200\n",
            "20/20 [==============================] - 0s 6ms/step - loss: 0.6423 - accuracy: 0.6531 - val_loss: 0.6467 - val_accuracy: 0.6429\n",
            "Epoch 40/200\n",
            "20/20 [==============================] - 0s 6ms/step - loss: 0.6501 - accuracy: 0.6531 - val_loss: 0.6468 - val_accuracy: 0.6429\n",
            "Epoch 41/200\n",
            "20/20 [==============================] - 0s 6ms/step - loss: 0.6463 - accuracy: 0.6531 - val_loss: 0.6467 - val_accuracy: 0.6429\n",
            "Epoch 42/200\n",
            "20/20 [==============================] - 0s 6ms/step - loss: 0.6454 - accuracy: 0.6531 - val_loss: 0.6467 - val_accuracy: 0.6429\n",
            "Epoch 43/200\n",
            "20/20 [==============================] - 0s 6ms/step - loss: 0.6458 - accuracy: 0.6531 - val_loss: 0.6466 - val_accuracy: 0.6429\n",
            "Epoch 44/200\n",
            "20/20 [==============================] - 0s 6ms/step - loss: 0.6462 - accuracy: 0.6531 - val_loss: 0.6465 - val_accuracy: 0.6429\n",
            "Epoch 45/200\n",
            "20/20 [==============================] - 0s 6ms/step - loss: 0.6406 - accuracy: 0.6531 - val_loss: 0.6461 - val_accuracy: 0.6429\n",
            "Epoch 46/200\n",
            "20/20 [==============================] - 0s 7ms/step - loss: 0.6484 - accuracy: 0.6531 - val_loss: 0.6459 - val_accuracy: 0.6429\n",
            "Epoch 47/200\n",
            "20/20 [==============================] - 0s 5ms/step - loss: 0.6403 - accuracy: 0.6531 - val_loss: 0.6459 - val_accuracy: 0.6429\n",
            "Epoch 48/200\n",
            "20/20 [==============================] - 0s 6ms/step - loss: 0.6412 - accuracy: 0.6531 - val_loss: 0.6455 - val_accuracy: 0.6429\n",
            "Epoch 49/200\n",
            "20/20 [==============================] - 0s 7ms/step - loss: 0.6428 - accuracy: 0.6531 - val_loss: 0.6452 - val_accuracy: 0.6429\n",
            "Epoch 50/200\n",
            "20/20 [==============================] - 0s 7ms/step - loss: 0.6419 - accuracy: 0.6531 - val_loss: 0.6451 - val_accuracy: 0.6429\n",
            "Epoch 51/200\n",
            "20/20 [==============================] - 0s 6ms/step - loss: 0.6449 - accuracy: 0.6531 - val_loss: 0.6449 - val_accuracy: 0.6429\n",
            "Epoch 52/200\n",
            "20/20 [==============================] - 0s 7ms/step - loss: 0.6450 - accuracy: 0.6531 - val_loss: 0.6447 - val_accuracy: 0.6429\n",
            "Epoch 53/200\n",
            "20/20 [==============================] - 0s 7ms/step - loss: 0.6457 - accuracy: 0.6531 - val_loss: 0.6445 - val_accuracy: 0.6429\n",
            "Epoch 54/200\n",
            "20/20 [==============================] - 0s 7ms/step - loss: 0.6403 - accuracy: 0.6531 - val_loss: 0.6444 - val_accuracy: 0.6429\n",
            "Epoch 55/200\n",
            "20/20 [==============================] - 0s 6ms/step - loss: 0.6417 - accuracy: 0.6531 - val_loss: 0.6442 - val_accuracy: 0.6429\n",
            "Epoch 56/200\n",
            "20/20 [==============================] - 0s 6ms/step - loss: 0.6468 - accuracy: 0.6531 - val_loss: 0.6441 - val_accuracy: 0.6429\n",
            "Epoch 57/200\n",
            "20/20 [==============================] - 0s 6ms/step - loss: 0.6393 - accuracy: 0.6531 - val_loss: 0.6438 - val_accuracy: 0.6429\n",
            "Epoch 58/200\n",
            "20/20 [==============================] - 0s 6ms/step - loss: 0.6451 - accuracy: 0.6531 - val_loss: 0.6436 - val_accuracy: 0.6429\n",
            "Epoch 59/200\n",
            "20/20 [==============================] - 0s 6ms/step - loss: 0.6388 - accuracy: 0.6531 - val_loss: 0.6435 - val_accuracy: 0.6429\n",
            "Epoch 60/200\n",
            "20/20 [==============================] - 0s 6ms/step - loss: 0.6468 - accuracy: 0.6531 - val_loss: 0.6434 - val_accuracy: 0.6429\n",
            "Epoch 61/200\n",
            "20/20 [==============================] - 0s 5ms/step - loss: 0.6452 - accuracy: 0.6531 - val_loss: 0.6431 - val_accuracy: 0.6429\n",
            "Epoch 62/200\n",
            "20/20 [==============================] - 0s 7ms/step - loss: 0.6406 - accuracy: 0.6531 - val_loss: 0.6430 - val_accuracy: 0.6429\n",
            "Epoch 63/200\n",
            "20/20 [==============================] - 0s 7ms/step - loss: 0.6446 - accuracy: 0.6531 - val_loss: 0.6430 - val_accuracy: 0.6429\n",
            "Epoch 64/200\n",
            "20/20 [==============================] - 0s 7ms/step - loss: 0.6416 - accuracy: 0.6531 - val_loss: 0.6432 - val_accuracy: 0.6429\n",
            "Epoch 65/200\n",
            "20/20 [==============================] - 0s 6ms/step - loss: 0.6428 - accuracy: 0.6531 - val_loss: 0.6432 - val_accuracy: 0.6429\n",
            "Epoch 66/200\n",
            "20/20 [==============================] - 0s 5ms/step - loss: 0.6435 - accuracy: 0.6531 - val_loss: 0.6430 - val_accuracy: 0.6429\n",
            "Epoch 67/200\n",
            "20/20 [==============================] - 0s 4ms/step - loss: 0.6431 - accuracy: 0.6515 - val_loss: 0.6429 - val_accuracy: 0.6429\n",
            "Epoch 68/200\n",
            "20/20 [==============================] - 0s 4ms/step - loss: 0.6425 - accuracy: 0.6531 - val_loss: 0.6425 - val_accuracy: 0.6429\n",
            "Epoch 69/200\n",
            "20/20 [==============================] - 0s 4ms/step - loss: 0.6391 - accuracy: 0.6531 - val_loss: 0.6422 - val_accuracy: 0.6429\n",
            "Epoch 70/200\n",
            "20/20 [==============================] - 0s 5ms/step - loss: 0.6460 - accuracy: 0.6515 - val_loss: 0.6420 - val_accuracy: 0.6429\n",
            "Epoch 71/200\n",
            "20/20 [==============================] - 0s 5ms/step - loss: 0.6451 - accuracy: 0.6531 - val_loss: 0.6419 - val_accuracy: 0.6429\n",
            "Epoch 72/200\n",
            "20/20 [==============================] - 0s 6ms/step - loss: 0.6426 - accuracy: 0.6531 - val_loss: 0.6415 - val_accuracy: 0.6429\n",
            "Epoch 73/200\n",
            "20/20 [==============================] - 0s 4ms/step - loss: 0.6476 - accuracy: 0.6531 - val_loss: 0.6410 - val_accuracy: 0.6429\n",
            "Epoch 74/200\n",
            "20/20 [==============================] - 0s 5ms/step - loss: 0.6437 - accuracy: 0.6531 - val_loss: 0.6407 - val_accuracy: 0.6429\n",
            "Epoch 75/200\n",
            "20/20 [==============================] - 0s 4ms/step - loss: 0.6419 - accuracy: 0.6531 - val_loss: 0.6406 - val_accuracy: 0.6429\n",
            "Epoch 76/200\n",
            "20/20 [==============================] - 0s 5ms/step - loss: 0.6391 - accuracy: 0.6531 - val_loss: 0.6403 - val_accuracy: 0.6429\n",
            "Epoch 77/200\n",
            "20/20 [==============================] - 0s 4ms/step - loss: 0.6420 - accuracy: 0.6531 - val_loss: 0.6398 - val_accuracy: 0.6429\n",
            "Epoch 78/200\n",
            "20/20 [==============================] - 0s 5ms/step - loss: 0.6413 - accuracy: 0.6531 - val_loss: 0.6396 - val_accuracy: 0.6429\n",
            "Epoch 79/200\n",
            "20/20 [==============================] - 0s 4ms/step - loss: 0.6401 - accuracy: 0.6531 - val_loss: 0.6394 - val_accuracy: 0.6429\n",
            "Epoch 80/200\n",
            "20/20 [==============================] - 0s 4ms/step - loss: 0.6388 - accuracy: 0.6531 - val_loss: 0.6390 - val_accuracy: 0.6429\n",
            "Epoch 81/200\n",
            "20/20 [==============================] - 0s 5ms/step - loss: 0.6370 - accuracy: 0.6531 - val_loss: 0.6386 - val_accuracy: 0.6429\n",
            "Epoch 82/200\n",
            "20/20 [==============================] - 0s 5ms/step - loss: 0.6357 - accuracy: 0.6531 - val_loss: 0.6380 - val_accuracy: 0.6429\n",
            "Epoch 83/200\n",
            "20/20 [==============================] - 0s 4ms/step - loss: 0.6415 - accuracy: 0.6531 - val_loss: 0.6374 - val_accuracy: 0.6429\n",
            "Epoch 84/200\n",
            "20/20 [==============================] - 0s 5ms/step - loss: 0.6409 - accuracy: 0.6531 - val_loss: 0.6369 - val_accuracy: 0.6429\n",
            "Epoch 85/200\n",
            "20/20 [==============================] - 0s 5ms/step - loss: 0.6491 - accuracy: 0.6531 - val_loss: 0.6366 - val_accuracy: 0.6429\n",
            "Epoch 86/200\n",
            "20/20 [==============================] - 0s 4ms/step - loss: 0.6466 - accuracy: 0.6531 - val_loss: 0.6364 - val_accuracy: 0.6429\n",
            "Epoch 87/200\n",
            "20/20 [==============================] - 0s 4ms/step - loss: 0.6343 - accuracy: 0.6531 - val_loss: 0.6356 - val_accuracy: 0.6429\n",
            "Epoch 88/200\n",
            "20/20 [==============================] - 0s 4ms/step - loss: 0.6422 - accuracy: 0.6531 - val_loss: 0.6353 - val_accuracy: 0.6429\n",
            "Epoch 89/200\n",
            "20/20 [==============================] - 0s 4ms/step - loss: 0.6375 - accuracy: 0.6531 - val_loss: 0.6348 - val_accuracy: 0.6429\n",
            "Epoch 90/200\n",
            "20/20 [==============================] - 0s 4ms/step - loss: 0.6446 - accuracy: 0.6531 - val_loss: 0.6349 - val_accuracy: 0.6429\n",
            "Epoch 91/200\n",
            "20/20 [==============================] - 0s 4ms/step - loss: 0.6375 - accuracy: 0.6531 - val_loss: 0.6343 - val_accuracy: 0.6429\n",
            "Epoch 92/200\n",
            "20/20 [==============================] - 0s 5ms/step - loss: 0.6367 - accuracy: 0.6531 - val_loss: 0.6337 - val_accuracy: 0.6429\n",
            "Epoch 93/200\n",
            "20/20 [==============================] - 0s 5ms/step - loss: 0.6370 - accuracy: 0.6531 - val_loss: 0.6331 - val_accuracy: 0.6429\n",
            "Epoch 94/200\n",
            "20/20 [==============================] - 0s 4ms/step - loss: 0.6328 - accuracy: 0.6531 - val_loss: 0.6325 - val_accuracy: 0.6429\n",
            "Epoch 95/200\n",
            "20/20 [==============================] - 0s 4ms/step - loss: 0.6356 - accuracy: 0.6531 - val_loss: 0.6319 - val_accuracy: 0.6429\n",
            "Epoch 96/200\n",
            "20/20 [==============================] - 0s 5ms/step - loss: 0.6376 - accuracy: 0.6531 - val_loss: 0.6315 - val_accuracy: 0.6429\n",
            "Epoch 97/200\n",
            "20/20 [==============================] - 0s 4ms/step - loss: 0.6347 - accuracy: 0.6531 - val_loss: 0.6310 - val_accuracy: 0.6429\n",
            "Epoch 98/200\n",
            "20/20 [==============================] - 0s 5ms/step - loss: 0.6398 - accuracy: 0.6531 - val_loss: 0.6305 - val_accuracy: 0.6429\n",
            "Epoch 99/200\n",
            "20/20 [==============================] - 0s 4ms/step - loss: 0.6360 - accuracy: 0.6531 - val_loss: 0.6299 - val_accuracy: 0.6429\n",
            "Epoch 100/200\n",
            "20/20 [==============================] - 0s 4ms/step - loss: 0.6332 - accuracy: 0.6531 - val_loss: 0.6292 - val_accuracy: 0.6429\n",
            "Epoch 101/200\n",
            "20/20 [==============================] - 0s 4ms/step - loss: 0.6384 - accuracy: 0.6531 - val_loss: 0.6288 - val_accuracy: 0.6429\n",
            "Epoch 102/200\n",
            "20/20 [==============================] - 0s 5ms/step - loss: 0.6361 - accuracy: 0.6531 - val_loss: 0.6283 - val_accuracy: 0.6429\n",
            "Epoch 103/200\n",
            "20/20 [==============================] - 0s 5ms/step - loss: 0.6371 - accuracy: 0.6531 - val_loss: 0.6279 - val_accuracy: 0.6429\n",
            "Epoch 104/200\n",
            "20/20 [==============================] - 0s 5ms/step - loss: 0.6374 - accuracy: 0.6531 - val_loss: 0.6274 - val_accuracy: 0.6429\n",
            "Epoch 105/200\n",
            "20/20 [==============================] - 0s 4ms/step - loss: 0.6330 - accuracy: 0.6531 - val_loss: 0.6269 - val_accuracy: 0.6429\n",
            "Epoch 106/200\n",
            "20/20 [==============================] - 0s 4ms/step - loss: 0.6344 - accuracy: 0.6531 - val_loss: 0.6261 - val_accuracy: 0.6429\n",
            "Epoch 107/200\n",
            "20/20 [==============================] - 0s 4ms/step - loss: 0.6339 - accuracy: 0.6531 - val_loss: 0.6255 - val_accuracy: 0.6429\n",
            "Epoch 108/200\n",
            "20/20 [==============================] - 0s 5ms/step - loss: 0.6412 - accuracy: 0.6531 - val_loss: 0.6256 - val_accuracy: 0.6429\n",
            "Epoch 109/200\n",
            "20/20 [==============================] - 0s 4ms/step - loss: 0.6407 - accuracy: 0.6531 - val_loss: 0.6250 - val_accuracy: 0.6429\n",
            "Epoch 110/200\n",
            "20/20 [==============================] - 0s 4ms/step - loss: 0.6306 - accuracy: 0.6531 - val_loss: 0.6239 - val_accuracy: 0.6429\n",
            "Epoch 111/200\n",
            "20/20 [==============================] - 0s 4ms/step - loss: 0.6264 - accuracy: 0.6531 - val_loss: 0.6228 - val_accuracy: 0.6429\n",
            "Epoch 112/200\n",
            "20/20 [==============================] - 0s 4ms/step - loss: 0.6332 - accuracy: 0.6531 - val_loss: 0.6223 - val_accuracy: 0.6429\n",
            "Epoch 113/200\n",
            "20/20 [==============================] - 0s 4ms/step - loss: 0.6263 - accuracy: 0.6531 - val_loss: 0.6213 - val_accuracy: 0.6429\n",
            "Epoch 114/200\n",
            "20/20 [==============================] - 0s 5ms/step - loss: 0.6281 - accuracy: 0.6531 - val_loss: 0.6202 - val_accuracy: 0.6429\n",
            "Epoch 115/200\n",
            "20/20 [==============================] - 0s 5ms/step - loss: 0.6353 - accuracy: 0.6531 - val_loss: 0.6196 - val_accuracy: 0.6429\n",
            "Epoch 116/200\n",
            "20/20 [==============================] - 0s 4ms/step - loss: 0.6310 - accuracy: 0.6531 - val_loss: 0.6185 - val_accuracy: 0.6429\n",
            "Epoch 117/200\n",
            "20/20 [==============================] - 0s 4ms/step - loss: 0.6250 - accuracy: 0.6531 - val_loss: 0.6169 - val_accuracy: 0.6429\n",
            "Epoch 118/200\n",
            "20/20 [==============================] - 0s 5ms/step - loss: 0.6246 - accuracy: 0.6531 - val_loss: 0.6158 - val_accuracy: 0.6429\n",
            "Epoch 119/200\n",
            "20/20 [==============================] - 0s 5ms/step - loss: 0.6283 - accuracy: 0.6531 - val_loss: 0.6143 - val_accuracy: 0.6429\n",
            "Epoch 120/200\n",
            "20/20 [==============================] - 0s 4ms/step - loss: 0.6335 - accuracy: 0.6531 - val_loss: 0.6134 - val_accuracy: 0.6429\n",
            "Epoch 121/200\n",
            "20/20 [==============================] - 0s 4ms/step - loss: 0.6265 - accuracy: 0.6531 - val_loss: 0.6121 - val_accuracy: 0.6429\n",
            "Epoch 122/200\n",
            "20/20 [==============================] - 0s 4ms/step - loss: 0.6191 - accuracy: 0.6531 - val_loss: 0.6107 - val_accuracy: 0.6429\n",
            "Epoch 123/200\n",
            "20/20 [==============================] - 0s 4ms/step - loss: 0.6278 - accuracy: 0.6531 - val_loss: 0.6098 - val_accuracy: 0.6429\n",
            "Epoch 124/200\n",
            "20/20 [==============================] - 0s 5ms/step - loss: 0.6248 - accuracy: 0.6531 - val_loss: 0.6084 - val_accuracy: 0.6429\n",
            "Epoch 125/200\n",
            "20/20 [==============================] - 0s 4ms/step - loss: 0.6241 - accuracy: 0.6531 - val_loss: 0.6075 - val_accuracy: 0.6429\n",
            "Epoch 126/200\n",
            "20/20 [==============================] - 0s 5ms/step - loss: 0.6198 - accuracy: 0.6531 - val_loss: 0.6056 - val_accuracy: 0.6429\n",
            "Epoch 127/200\n",
            "20/20 [==============================] - 0s 4ms/step - loss: 0.6192 - accuracy: 0.6531 - val_loss: 0.6041 - val_accuracy: 0.6429\n",
            "Epoch 128/200\n",
            "20/20 [==============================] - 0s 5ms/step - loss: 0.6180 - accuracy: 0.6531 - val_loss: 0.6024 - val_accuracy: 0.6429\n",
            "Epoch 129/200\n",
            "20/20 [==============================] - 0s 4ms/step - loss: 0.6171 - accuracy: 0.6531 - val_loss: 0.6010 - val_accuracy: 0.6429\n",
            "Epoch 130/200\n",
            "20/20 [==============================] - 0s 4ms/step - loss: 0.6170 - accuracy: 0.6531 - val_loss: 0.5994 - val_accuracy: 0.6429\n",
            "Epoch 131/200\n",
            "20/20 [==============================] - 0s 5ms/step - loss: 0.6145 - accuracy: 0.6531 - val_loss: 0.5975 - val_accuracy: 0.6429\n",
            "Epoch 132/200\n",
            "20/20 [==============================] - 0s 4ms/step - loss: 0.6150 - accuracy: 0.6515 - val_loss: 0.5961 - val_accuracy: 0.6429\n",
            "Epoch 133/200\n",
            "20/20 [==============================] - 0s 5ms/step - loss: 0.6166 - accuracy: 0.6531 - val_loss: 0.5941 - val_accuracy: 0.6429\n",
            "Epoch 134/200\n",
            "20/20 [==============================] - 0s 4ms/step - loss: 0.6150 - accuracy: 0.6531 - val_loss: 0.5920 - val_accuracy: 0.6429\n",
            "Epoch 135/200\n",
            "20/20 [==============================] - 0s 4ms/step - loss: 0.6124 - accuracy: 0.6531 - val_loss: 0.5906 - val_accuracy: 0.6429\n",
            "Epoch 136/200\n",
            "20/20 [==============================] - 0s 4ms/step - loss: 0.6168 - accuracy: 0.6547 - val_loss: 0.5894 - val_accuracy: 0.6429\n",
            "Epoch 137/200\n",
            "20/20 [==============================] - 0s 5ms/step - loss: 0.6178 - accuracy: 0.6515 - val_loss: 0.5878 - val_accuracy: 0.6429\n",
            "Epoch 138/200\n",
            "20/20 [==============================] - 0s 4ms/step - loss: 0.6196 - accuracy: 0.6547 - val_loss: 0.5874 - val_accuracy: 0.6429\n",
            "Epoch 139/200\n",
            "20/20 [==============================] - 0s 4ms/step - loss: 0.6122 - accuracy: 0.6515 - val_loss: 0.5863 - val_accuracy: 0.6429\n",
            "Epoch 140/200\n",
            "20/20 [==============================] - 0s 4ms/step - loss: 0.5999 - accuracy: 0.6531 - val_loss: 0.5836 - val_accuracy: 0.6429\n",
            "Epoch 141/200\n",
            "20/20 [==============================] - 0s 5ms/step - loss: 0.6108 - accuracy: 0.6515 - val_loss: 0.5821 - val_accuracy: 0.6429\n",
            "Epoch 142/200\n",
            "20/20 [==============================] - 0s 4ms/step - loss: 0.6136 - accuracy: 0.6547 - val_loss: 0.5802 - val_accuracy: 0.6429\n",
            "Epoch 143/200\n",
            "20/20 [==============================] - 0s 4ms/step - loss: 0.6126 - accuracy: 0.6564 - val_loss: 0.5792 - val_accuracy: 0.6429\n",
            "Epoch 144/200\n",
            "20/20 [==============================] - 0s 5ms/step - loss: 0.6035 - accuracy: 0.6547 - val_loss: 0.5775 - val_accuracy: 0.6429\n",
            "Epoch 145/200\n",
            "20/20 [==============================] - 0s 4ms/step - loss: 0.6109 - accuracy: 0.6580 - val_loss: 0.5759 - val_accuracy: 0.6429\n",
            "Epoch 146/200\n",
            "20/20 [==============================] - 0s 4ms/step - loss: 0.6027 - accuracy: 0.6531 - val_loss: 0.5752 - val_accuracy: 0.6429\n",
            "Epoch 147/200\n",
            "20/20 [==============================] - 0s 5ms/step - loss: 0.6062 - accuracy: 0.6629 - val_loss: 0.5725 - val_accuracy: 0.6429\n",
            "Epoch 148/200\n",
            "20/20 [==============================] - 0s 5ms/step - loss: 0.6052 - accuracy: 0.6661 - val_loss: 0.5714 - val_accuracy: 0.6429\n",
            "Epoch 149/200\n",
            "20/20 [==============================] - 0s 5ms/step - loss: 0.6058 - accuracy: 0.6547 - val_loss: 0.5682 - val_accuracy: 0.6429\n",
            "Epoch 150/200\n",
            "20/20 [==============================] - 0s 4ms/step - loss: 0.5986 - accuracy: 0.6612 - val_loss: 0.5666 - val_accuracy: 0.6429\n",
            "Epoch 151/200\n",
            "20/20 [==============================] - 0s 5ms/step - loss: 0.6003 - accuracy: 0.6743 - val_loss: 0.5650 - val_accuracy: 0.6429\n",
            "Epoch 152/200\n",
            "20/20 [==============================] - 0s 4ms/step - loss: 0.6073 - accuracy: 0.6726 - val_loss: 0.5639 - val_accuracy: 0.6429\n",
            "Epoch 153/200\n",
            "20/20 [==============================] - 0s 5ms/step - loss: 0.5987 - accuracy: 0.6580 - val_loss: 0.5621 - val_accuracy: 0.6364\n",
            "Epoch 154/200\n",
            "20/20 [==============================] - 0s 4ms/step - loss: 0.5906 - accuracy: 0.6612 - val_loss: 0.5598 - val_accuracy: 0.6494\n",
            "Epoch 155/200\n",
            "20/20 [==============================] - 0s 5ms/step - loss: 0.5928 - accuracy: 0.6775 - val_loss: 0.5588 - val_accuracy: 0.6558\n",
            "Epoch 156/200\n",
            "20/20 [==============================] - 0s 4ms/step - loss: 0.5895 - accuracy: 0.6922 - val_loss: 0.5577 - val_accuracy: 0.6558\n",
            "Epoch 157/200\n",
            "20/20 [==============================] - 0s 4ms/step - loss: 0.5995 - accuracy: 0.6808 - val_loss: 0.5560 - val_accuracy: 0.6623\n",
            "Epoch 158/200\n",
            "20/20 [==============================] - 0s 5ms/step - loss: 0.6089 - accuracy: 0.6450 - val_loss: 0.5556 - val_accuracy: 0.6558\n",
            "Epoch 159/200\n",
            "20/20 [==============================] - 0s 4ms/step - loss: 0.6068 - accuracy: 0.6840 - val_loss: 0.5575 - val_accuracy: 0.6623\n",
            "Epoch 160/200\n",
            "20/20 [==============================] - 0s 4ms/step - loss: 0.5933 - accuracy: 0.6678 - val_loss: 0.5554 - val_accuracy: 0.6753\n",
            "Epoch 161/200\n",
            "20/20 [==============================] - 0s 5ms/step - loss: 0.5913 - accuracy: 0.6710 - val_loss: 0.5513 - val_accuracy: 0.6948\n",
            "Epoch 162/200\n",
            "20/20 [==============================] - 0s 4ms/step - loss: 0.5835 - accuracy: 0.6808 - val_loss: 0.5496 - val_accuracy: 0.7013\n",
            "Epoch 163/200\n",
            "20/20 [==============================] - 0s 4ms/step - loss: 0.5949 - accuracy: 0.6612 - val_loss: 0.5485 - val_accuracy: 0.7013\n",
            "Epoch 164/200\n",
            "20/20 [==============================] - 0s 4ms/step - loss: 0.5919 - accuracy: 0.6857 - val_loss: 0.5480 - val_accuracy: 0.7013\n",
            "Epoch 165/200\n",
            "20/20 [==============================] - 0s 5ms/step - loss: 0.5825 - accuracy: 0.6645 - val_loss: 0.5460 - val_accuracy: 0.7208\n",
            "Epoch 166/200\n",
            "20/20 [==============================] - 0s 5ms/step - loss: 0.5807 - accuracy: 0.6678 - val_loss: 0.5435 - val_accuracy: 0.7273\n",
            "Epoch 167/200\n",
            "20/20 [==============================] - 0s 5ms/step - loss: 0.5714 - accuracy: 0.6759 - val_loss: 0.5405 - val_accuracy: 0.7532\n",
            "Epoch 168/200\n",
            "20/20 [==============================] - 0s 4ms/step - loss: 0.5739 - accuracy: 0.6938 - val_loss: 0.5388 - val_accuracy: 0.7468\n",
            "Epoch 169/200\n",
            "20/20 [==============================] - 0s 7ms/step - loss: 0.5805 - accuracy: 0.6645 - val_loss: 0.5367 - val_accuracy: 0.7532\n",
            "Epoch 170/200\n",
            "20/20 [==============================] - 0s 7ms/step - loss: 0.5956 - accuracy: 0.6954 - val_loss: 0.5367 - val_accuracy: 0.7532\n",
            "Epoch 171/200\n",
            "20/20 [==============================] - 0s 6ms/step - loss: 0.5949 - accuracy: 0.6824 - val_loss: 0.5354 - val_accuracy: 0.7597\n",
            "Epoch 172/200\n",
            "20/20 [==============================] - 0s 6ms/step - loss: 0.5689 - accuracy: 0.6906 - val_loss: 0.5345 - val_accuracy: 0.7597\n",
            "Epoch 173/200\n",
            "20/20 [==============================] - 0s 6ms/step - loss: 0.5797 - accuracy: 0.6906 - val_loss: 0.5330 - val_accuracy: 0.7597\n",
            "Epoch 174/200\n",
            "20/20 [==============================] - 0s 6ms/step - loss: 0.5774 - accuracy: 0.6873 - val_loss: 0.5317 - val_accuracy: 0.7727\n",
            "Epoch 175/200\n",
            "20/20 [==============================] - 0s 6ms/step - loss: 0.5816 - accuracy: 0.7134 - val_loss: 0.5306 - val_accuracy: 0.7532\n",
            "Epoch 176/200\n",
            "20/20 [==============================] - 0s 6ms/step - loss: 0.5891 - accuracy: 0.6938 - val_loss: 0.5292 - val_accuracy: 0.7597\n",
            "Epoch 177/200\n",
            "20/20 [==============================] - 0s 7ms/step - loss: 0.5726 - accuracy: 0.7068 - val_loss: 0.5278 - val_accuracy: 0.7727\n",
            "Epoch 178/200\n",
            "20/20 [==============================] - 0s 6ms/step - loss: 0.5896 - accuracy: 0.6759 - val_loss: 0.5273 - val_accuracy: 0.7597\n",
            "Epoch 179/200\n",
            "20/20 [==============================] - 0s 6ms/step - loss: 0.5881 - accuracy: 0.6775 - val_loss: 0.5264 - val_accuracy: 0.7727\n",
            "Epoch 180/200\n",
            "20/20 [==============================] - 0s 6ms/step - loss: 0.5718 - accuracy: 0.6906 - val_loss: 0.5261 - val_accuracy: 0.7597\n",
            "Epoch 181/200\n",
            "20/20 [==============================] - 0s 7ms/step - loss: 0.5736 - accuracy: 0.6938 - val_loss: 0.5237 - val_accuracy: 0.7792\n",
            "Epoch 182/200\n",
            "20/20 [==============================] - 0s 6ms/step - loss: 0.5962 - accuracy: 0.6792 - val_loss: 0.5248 - val_accuracy: 0.7792\n",
            "Epoch 183/200\n",
            "20/20 [==============================] - 0s 7ms/step - loss: 0.6045 - accuracy: 0.6515 - val_loss: 0.5249 - val_accuracy: 0.7792\n",
            "Epoch 184/200\n",
            "20/20 [==============================] - 0s 6ms/step - loss: 0.5754 - accuracy: 0.6971 - val_loss: 0.5234 - val_accuracy: 0.7727\n",
            "Epoch 185/200\n",
            "20/20 [==============================] - 0s 8ms/step - loss: 0.5760 - accuracy: 0.6759 - val_loss: 0.5229 - val_accuracy: 0.7727\n",
            "Epoch 186/200\n",
            "20/20 [==============================] - 0s 7ms/step - loss: 0.5677 - accuracy: 0.6954 - val_loss: 0.5225 - val_accuracy: 0.7662\n",
            "Epoch 187/200\n",
            "20/20 [==============================] - 0s 6ms/step - loss: 0.5845 - accuracy: 0.6987 - val_loss: 0.5212 - val_accuracy: 0.7922\n",
            "Epoch 188/200\n",
            "20/20 [==============================] - 0s 7ms/step - loss: 0.5491 - accuracy: 0.7362 - val_loss: 0.5243 - val_accuracy: 0.7727\n",
            "Epoch 189/200\n",
            "20/20 [==============================] - 0s 7ms/step - loss: 0.5733 - accuracy: 0.6792 - val_loss: 0.5175 - val_accuracy: 0.7792\n",
            "Epoch 190/200\n",
            "20/20 [==============================] - 0s 6ms/step - loss: 0.5777 - accuracy: 0.6954 - val_loss: 0.5169 - val_accuracy: 0.7727\n",
            "Epoch 191/200\n",
            "20/20 [==============================] - 0s 5ms/step - loss: 0.5709 - accuracy: 0.6792 - val_loss: 0.5166 - val_accuracy: 0.7922\n",
            "Epoch 192/200\n",
            "20/20 [==============================] - 0s 6ms/step - loss: 0.5777 - accuracy: 0.6824 - val_loss: 0.5156 - val_accuracy: 0.7922\n",
            "Epoch 193/200\n",
            "20/20 [==============================] - 0s 7ms/step - loss: 0.5881 - accuracy: 0.6840 - val_loss: 0.5149 - val_accuracy: 0.7922\n",
            "Epoch 194/200\n",
            "20/20 [==============================] - 0s 6ms/step - loss: 0.5603 - accuracy: 0.7036 - val_loss: 0.5131 - val_accuracy: 0.7857\n",
            "Epoch 195/200\n",
            "20/20 [==============================] - 0s 6ms/step - loss: 0.5829 - accuracy: 0.6889 - val_loss: 0.5140 - val_accuracy: 0.7922\n",
            "Epoch 196/200\n",
            "20/20 [==============================] - 0s 7ms/step - loss: 0.5795 - accuracy: 0.7036 - val_loss: 0.5149 - val_accuracy: 0.7792\n",
            "Epoch 197/200\n",
            "20/20 [==============================] - 0s 6ms/step - loss: 0.5851 - accuracy: 0.6889 - val_loss: 0.5191 - val_accuracy: 0.7662\n",
            "Epoch 198/200\n",
            "20/20 [==============================] - 0s 7ms/step - loss: 0.5615 - accuracy: 0.7150 - val_loss: 0.5171 - val_accuracy: 0.7662\n",
            "Epoch 199/200\n",
            "20/20 [==============================] - 0s 7ms/step - loss: 0.5597 - accuracy: 0.7182 - val_loss: 0.5119 - val_accuracy: 0.7922\n",
            "Epoch 200/200\n",
            "20/20 [==============================] - 0s 7ms/step - loss: 0.5590 - accuracy: 0.6922 - val_loss: 0.5103 - val_accuracy: 0.7922\n"
          ]
        },
        {
          "output_type": "execute_result",
          "data": {
            "text/plain": [
              "<keras.src.callbacks.History at 0x7812fb4813f0>"
            ]
          },
          "metadata": {},
          "execution_count": 118
        }
      ]
    },
    {
      "cell_type": "code",
      "source": [],
      "metadata": {
        "id": "mOwIYLI_j-8B"
      },
      "execution_count": null,
      "outputs": []
    }
  ]
}